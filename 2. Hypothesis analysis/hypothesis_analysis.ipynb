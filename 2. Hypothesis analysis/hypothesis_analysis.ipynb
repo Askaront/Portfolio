{
 "cells": [
  {
   "cell_type": "markdown",
   "metadata": {},
   "source": [
    "# Исследование гипотез для увеличения выручки интернет-магазина"
   ]
  },
  {
   "cell_type": "markdown",
   "metadata": {},
   "source": [
    "**Цель исследования:**\n",
    "* Приоритизировать гипотезы, проанализировать результаты А/В теста.\n",
    "\n",
    "**Описание данных**\n",
    "\n",
    "Таблица `hypothesis.csv`:\n",
    "* `Hypothesis` —  краткое описание гипотезы;\n",
    "* `Reach` — охват пользователей по 10-балльной шкале;\n",
    "* `Impact` — влияние на пользователей по 10-балльной шкале;\n",
    "* `Confidence` — уверенность в гипотезе по 10-балльной шкале;\n",
    "* `Efforts` — затраты ресурсов на проверку гипотезы по 10-балльной шкале (чем больше значение Efforts, тем дороже проверка гипотезы).\n",
    "\n",
    "Таблица `orders.csv`:\n",
    "* `transactionId` — идентификатор заказа;\n",
    "* `visitorId` — идентификатор пользователя, совершившего заказ;\n",
    "* `date` — дата, когда был совершён заказ;\n",
    "* `revenue` — выручка заказа;\n",
    "* `group` — группа A/B-теста, в которую попал заказ.\n",
    "\n",
    "Таблица `visitors.csv`:\n",
    "* `date` — дата;\n",
    "* `group` — группа A/B-теста;\n",
    "* `visitors` — количество пользователей в указанную дату в указанной группе A/B-теста.\n",
    "\n",
    "**План работы**<a id='1A'></a>\n",
    "* [приоритизация гипотез](#1): применение фреймворков `ICE` и `RICE` для приоритизации гипотез\n",
    "* А/В тест:\n",
    "* [ознакомление с данными](#2): количество пропусков, изучение общей информации о датафреймах\n",
    "* [предобработка данных](#3): поиск и удаление дубликатов, зполнение пропущенных значений, изменение форматов столбцов\n",
    "* [анализ результатов А/B теста](#4): построение графиков кумулятивной конверсии и среднего чека по «сырым» и «очищенным» данным, рассчет статистической значимости различий конверсии и среднего чека между группами\n",
    "* [общий вывод](#5): подведение итогов исследования"
   ]
  },
  {
   "cell_type": "markdown",
   "metadata": {},
   "source": [
    "<a id='1'></a>\n",
    "### [Приоритизация гипотез](#1A)"
   ]
  },
  {
   "cell_type": "code",
   "execution_count": 1,
   "metadata": {},
   "outputs": [],
   "source": [
    "import pandas as pd\n",
    "import datetime as dt\n",
    "import scipy.stats as stats\n",
    "import numpy as np\n",
    "import matplotlib.pyplot as plt\n",
    "from pandas.plotting import register_matplotlib_converters\n",
    "import warnings"
   ]
  },
  {
   "cell_type": "code",
   "execution_count": 2,
   "metadata": {},
   "outputs": [],
   "source": [
    "pd.set_option('display.max_colwidth', None)"
   ]
  },
  {
   "cell_type": "code",
   "execution_count": 3,
   "metadata": {},
   "outputs": [
    {
     "data": {
      "text/html": [
       "<div>\n",
       "<style scoped>\n",
       "    .dataframe tbody tr th:only-of-type {\n",
       "        vertical-align: middle;\n",
       "    }\n",
       "\n",
       "    .dataframe tbody tr th {\n",
       "        vertical-align: top;\n",
       "    }\n",
       "\n",
       "    .dataframe thead th {\n",
       "        text-align: right;\n",
       "    }\n",
       "</style>\n",
       "<table border=\"1\" class=\"dataframe\">\n",
       "  <thead>\n",
       "    <tr style=\"text-align: right;\">\n",
       "      <th></th>\n",
       "      <th>Hypothesis</th>\n",
       "      <th>Reach</th>\n",
       "      <th>Impact</th>\n",
       "      <th>Confidence</th>\n",
       "      <th>Efforts</th>\n",
       "    </tr>\n",
       "  </thead>\n",
       "  <tbody>\n",
       "    <tr>\n",
       "      <th>0</th>\n",
       "      <td>Добавить два новых канала привлечения трафика, что позволит привлекать на 30% больше пользователей</td>\n",
       "      <td>3</td>\n",
       "      <td>10</td>\n",
       "      <td>8</td>\n",
       "      <td>6</td>\n",
       "    </tr>\n",
       "    <tr>\n",
       "      <th>1</th>\n",
       "      <td>Запустить собственную службу доставки, что сократит срок доставки заказов</td>\n",
       "      <td>2</td>\n",
       "      <td>5</td>\n",
       "      <td>4</td>\n",
       "      <td>10</td>\n",
       "    </tr>\n",
       "    <tr>\n",
       "      <th>2</th>\n",
       "      <td>Добавить блоки рекомендаций товаров на сайт интернет магазина, чтобы повысить конверсию и средний чек заказа</td>\n",
       "      <td>8</td>\n",
       "      <td>3</td>\n",
       "      <td>7</td>\n",
       "      <td>3</td>\n",
       "    </tr>\n",
       "    <tr>\n",
       "      <th>3</th>\n",
       "      <td>Изменить структура категорий, что увеличит конверсию, т.к. пользователи быстрее найдут нужный товар</td>\n",
       "      <td>8</td>\n",
       "      <td>3</td>\n",
       "      <td>3</td>\n",
       "      <td>8</td>\n",
       "    </tr>\n",
       "    <tr>\n",
       "      <th>4</th>\n",
       "      <td>Изменить цвет фона главной страницы, чтобы увеличить вовлеченность пользователей</td>\n",
       "      <td>3</td>\n",
       "      <td>1</td>\n",
       "      <td>1</td>\n",
       "      <td>1</td>\n",
       "    </tr>\n",
       "    <tr>\n",
       "      <th>5</th>\n",
       "      <td>Добавить страницу отзывов клиентов о магазине, что позволит увеличить количество заказов</td>\n",
       "      <td>3</td>\n",
       "      <td>2</td>\n",
       "      <td>2</td>\n",
       "      <td>3</td>\n",
       "    </tr>\n",
       "    <tr>\n",
       "      <th>6</th>\n",
       "      <td>Показать на главной странице баннеры с актуальными акциями и распродажами, чтобы увеличить конверсию</td>\n",
       "      <td>5</td>\n",
       "      <td>3</td>\n",
       "      <td>8</td>\n",
       "      <td>3</td>\n",
       "    </tr>\n",
       "    <tr>\n",
       "      <th>7</th>\n",
       "      <td>Добавить форму подписки на все основные страницы, чтобы собрать базу клиентов для email-рассылок</td>\n",
       "      <td>10</td>\n",
       "      <td>7</td>\n",
       "      <td>8</td>\n",
       "      <td>5</td>\n",
       "    </tr>\n",
       "    <tr>\n",
       "      <th>8</th>\n",
       "      <td>Запустить акцию, дающую скидку на товар в день рождения</td>\n",
       "      <td>1</td>\n",
       "      <td>9</td>\n",
       "      <td>9</td>\n",
       "      <td>5</td>\n",
       "    </tr>\n",
       "  </tbody>\n",
       "</table>\n",
       "</div>"
      ],
      "text/plain": [
       "                                                                                                     Hypothesis  \\\n",
       "0            Добавить два новых канала привлечения трафика, что позволит привлекать на 30% больше пользователей   \n",
       "1                                     Запустить собственную службу доставки, что сократит срок доставки заказов   \n",
       "2  Добавить блоки рекомендаций товаров на сайт интернет магазина, чтобы повысить конверсию и средний чек заказа   \n",
       "3           Изменить структура категорий, что увеличит конверсию, т.к. пользователи быстрее найдут нужный товар   \n",
       "4                              Изменить цвет фона главной страницы, чтобы увеличить вовлеченность пользователей   \n",
       "5                      Добавить страницу отзывов клиентов о магазине, что позволит увеличить количество заказов   \n",
       "6          Показать на главной странице баннеры с актуальными акциями и распродажами, чтобы увеличить конверсию   \n",
       "7              Добавить форму подписки на все основные страницы, чтобы собрать базу клиентов для email-рассылок   \n",
       "8                                                       Запустить акцию, дающую скидку на товар в день рождения   \n",
       "\n",
       "   Reach  Impact  Confidence  Efforts  \n",
       "0      3      10           8        6  \n",
       "1      2       5           4       10  \n",
       "2      8       3           7        3  \n",
       "3      8       3           3        8  \n",
       "4      3       1           1        1  \n",
       "5      3       2           2        3  \n",
       "6      5       3           8        3  \n",
       "7     10       7           8        5  \n",
       "8      1       9           9        5  "
      ]
     },
     "execution_count": 3,
     "metadata": {},
     "output_type": "execute_result"
    }
   ],
   "source": [
    "hypothesis = pd.read_csv('/datasets/hypothesis.csv')\n",
    "hypothesis"
   ]
  },
  {
   "cell_type": "markdown",
   "metadata": {},
   "source": [
    "Применим фреймворк `ICE` для приоритизации гипотез."
   ]
  },
  {
   "cell_type": "code",
   "execution_count": 4,
   "metadata": {},
   "outputs": [
    {
     "data": {
      "text/html": [
       "<div>\n",
       "<style scoped>\n",
       "    .dataframe tbody tr th:only-of-type {\n",
       "        vertical-align: middle;\n",
       "    }\n",
       "\n",
       "    .dataframe tbody tr th {\n",
       "        vertical-align: top;\n",
       "    }\n",
       "\n",
       "    .dataframe thead th {\n",
       "        text-align: right;\n",
       "    }\n",
       "</style>\n",
       "<table border=\"1\" class=\"dataframe\">\n",
       "  <thead>\n",
       "    <tr style=\"text-align: right;\">\n",
       "      <th></th>\n",
       "      <th>Hypothesis</th>\n",
       "      <th>ICE</th>\n",
       "    </tr>\n",
       "  </thead>\n",
       "  <tbody>\n",
       "    <tr>\n",
       "      <th>8</th>\n",
       "      <td>Запустить акцию, дающую скидку на товар в день рождения</td>\n",
       "      <td>16.20</td>\n",
       "    </tr>\n",
       "    <tr>\n",
       "      <th>0</th>\n",
       "      <td>Добавить два новых канала привлечения трафика, что позволит привлекать на 30% больше пользователей</td>\n",
       "      <td>13.33</td>\n",
       "    </tr>\n",
       "    <tr>\n",
       "      <th>7</th>\n",
       "      <td>Добавить форму подписки на все основные страницы, чтобы собрать базу клиентов для email-рассылок</td>\n",
       "      <td>11.20</td>\n",
       "    </tr>\n",
       "    <tr>\n",
       "      <th>6</th>\n",
       "      <td>Показать на главной странице баннеры с актуальными акциями и распродажами, чтобы увеличить конверсию</td>\n",
       "      <td>8.00</td>\n",
       "    </tr>\n",
       "    <tr>\n",
       "      <th>2</th>\n",
       "      <td>Добавить блоки рекомендаций товаров на сайт интернет магазина, чтобы повысить конверсию и средний чек заказа</td>\n",
       "      <td>7.00</td>\n",
       "    </tr>\n",
       "    <tr>\n",
       "      <th>1</th>\n",
       "      <td>Запустить собственную службу доставки, что сократит срок доставки заказов</td>\n",
       "      <td>2.00</td>\n",
       "    </tr>\n",
       "    <tr>\n",
       "      <th>5</th>\n",
       "      <td>Добавить страницу отзывов клиентов о магазине, что позволит увеличить количество заказов</td>\n",
       "      <td>1.33</td>\n",
       "    </tr>\n",
       "    <tr>\n",
       "      <th>3</th>\n",
       "      <td>Изменить структура категорий, что увеличит конверсию, т.к. пользователи быстрее найдут нужный товар</td>\n",
       "      <td>1.12</td>\n",
       "    </tr>\n",
       "    <tr>\n",
       "      <th>4</th>\n",
       "      <td>Изменить цвет фона главной страницы, чтобы увеличить вовлеченность пользователей</td>\n",
       "      <td>1.00</td>\n",
       "    </tr>\n",
       "  </tbody>\n",
       "</table>\n",
       "</div>"
      ],
      "text/plain": [
       "                                                                                                     Hypothesis  \\\n",
       "8                                                       Запустить акцию, дающую скидку на товар в день рождения   \n",
       "0            Добавить два новых канала привлечения трафика, что позволит привлекать на 30% больше пользователей   \n",
       "7              Добавить форму подписки на все основные страницы, чтобы собрать базу клиентов для email-рассылок   \n",
       "6          Показать на главной странице баннеры с актуальными акциями и распродажами, чтобы увеличить конверсию   \n",
       "2  Добавить блоки рекомендаций товаров на сайт интернет магазина, чтобы повысить конверсию и средний чек заказа   \n",
       "1                                     Запустить собственную службу доставки, что сократит срок доставки заказов   \n",
       "5                      Добавить страницу отзывов клиентов о магазине, что позволит увеличить количество заказов   \n",
       "3           Изменить структура категорий, что увеличит конверсию, т.к. пользователи быстрее найдут нужный товар   \n",
       "4                              Изменить цвет фона главной страницы, чтобы увеличить вовлеченность пользователей   \n",
       "\n",
       "     ICE  \n",
       "8  16.20  \n",
       "0  13.33  \n",
       "7  11.20  \n",
       "6   8.00  \n",
       "2   7.00  \n",
       "1   2.00  \n",
       "5   1.33  \n",
       "3   1.12  \n",
       "4   1.00  "
      ]
     },
     "execution_count": 4,
     "metadata": {},
     "output_type": "execute_result"
    }
   ],
   "source": [
    "hypothesis['ICE'] = hypothesis['Impact'] * hypothesis['Confidence'] / hypothesis['Efforts']\n",
    "hypothesis['ICE'] = round(hypothesis['ICE'], 2)\n",
    "hypothesis[['Hypothesis', 'ICE']].sort_values(by='ICE', ascending=False)"
   ]
  },
  {
   "cell_type": "markdown",
   "metadata": {},
   "source": [
    "Применим фреймворк `RICE` для приоритизации гипотез."
   ]
  },
  {
   "cell_type": "code",
   "execution_count": 5,
   "metadata": {},
   "outputs": [
    {
     "data": {
      "text/html": [
       "<div>\n",
       "<style scoped>\n",
       "    .dataframe tbody tr th:only-of-type {\n",
       "        vertical-align: middle;\n",
       "    }\n",
       "\n",
       "    .dataframe tbody tr th {\n",
       "        vertical-align: top;\n",
       "    }\n",
       "\n",
       "    .dataframe thead th {\n",
       "        text-align: right;\n",
       "    }\n",
       "</style>\n",
       "<table border=\"1\" class=\"dataframe\">\n",
       "  <thead>\n",
       "    <tr style=\"text-align: right;\">\n",
       "      <th></th>\n",
       "      <th>Hypothesis</th>\n",
       "      <th>RICE</th>\n",
       "    </tr>\n",
       "  </thead>\n",
       "  <tbody>\n",
       "    <tr>\n",
       "      <th>7</th>\n",
       "      <td>Добавить форму подписки на все основные страницы, чтобы собрать базу клиентов для email-рассылок</td>\n",
       "      <td>112.0</td>\n",
       "    </tr>\n",
       "    <tr>\n",
       "      <th>2</th>\n",
       "      <td>Добавить блоки рекомендаций товаров на сайт интернет магазина, чтобы повысить конверсию и средний чек заказа</td>\n",
       "      <td>56.0</td>\n",
       "    </tr>\n",
       "    <tr>\n",
       "      <th>0</th>\n",
       "      <td>Добавить два новых канала привлечения трафика, что позволит привлекать на 30% больше пользователей</td>\n",
       "      <td>40.0</td>\n",
       "    </tr>\n",
       "    <tr>\n",
       "      <th>6</th>\n",
       "      <td>Показать на главной странице баннеры с актуальными акциями и распродажами, чтобы увеличить конверсию</td>\n",
       "      <td>40.0</td>\n",
       "    </tr>\n",
       "    <tr>\n",
       "      <th>8</th>\n",
       "      <td>Запустить акцию, дающую скидку на товар в день рождения</td>\n",
       "      <td>16.2</td>\n",
       "    </tr>\n",
       "    <tr>\n",
       "      <th>3</th>\n",
       "      <td>Изменить структура категорий, что увеличит конверсию, т.к. пользователи быстрее найдут нужный товар</td>\n",
       "      <td>9.0</td>\n",
       "    </tr>\n",
       "    <tr>\n",
       "      <th>1</th>\n",
       "      <td>Запустить собственную службу доставки, что сократит срок доставки заказов</td>\n",
       "      <td>4.0</td>\n",
       "    </tr>\n",
       "    <tr>\n",
       "      <th>5</th>\n",
       "      <td>Добавить страницу отзывов клиентов о магазине, что позволит увеличить количество заказов</td>\n",
       "      <td>4.0</td>\n",
       "    </tr>\n",
       "    <tr>\n",
       "      <th>4</th>\n",
       "      <td>Изменить цвет фона главной страницы, чтобы увеличить вовлеченность пользователей</td>\n",
       "      <td>3.0</td>\n",
       "    </tr>\n",
       "  </tbody>\n",
       "</table>\n",
       "</div>"
      ],
      "text/plain": [
       "                                                                                                     Hypothesis  \\\n",
       "7              Добавить форму подписки на все основные страницы, чтобы собрать базу клиентов для email-рассылок   \n",
       "2  Добавить блоки рекомендаций товаров на сайт интернет магазина, чтобы повысить конверсию и средний чек заказа   \n",
       "0            Добавить два новых канала привлечения трафика, что позволит привлекать на 30% больше пользователей   \n",
       "6          Показать на главной странице баннеры с актуальными акциями и распродажами, чтобы увеличить конверсию   \n",
       "8                                                       Запустить акцию, дающую скидку на товар в день рождения   \n",
       "3           Изменить структура категорий, что увеличит конверсию, т.к. пользователи быстрее найдут нужный товар   \n",
       "1                                     Запустить собственную службу доставки, что сократит срок доставки заказов   \n",
       "5                      Добавить страницу отзывов клиентов о магазине, что позволит увеличить количество заказов   \n",
       "4                              Изменить цвет фона главной страницы, чтобы увеличить вовлеченность пользователей   \n",
       "\n",
       "    RICE  \n",
       "7  112.0  \n",
       "2   56.0  \n",
       "0   40.0  \n",
       "6   40.0  \n",
       "8   16.2  \n",
       "3    9.0  \n",
       "1    4.0  \n",
       "5    4.0  \n",
       "4    3.0  "
      ]
     },
     "execution_count": 5,
     "metadata": {},
     "output_type": "execute_result"
    }
   ],
   "source": [
    "hypothesis['RICE'] = hypothesis['Reach'] * hypothesis['Impact'] * hypothesis['Confidence'] / hypothesis['Efforts']\n",
    "hypothesis[['Hypothesis', 'RICE']].sort_values(by='RICE', ascending=False)"
   ]
  },
  {
   "cell_type": "markdown",
   "metadata": {},
   "source": [
    "При приоритизации гипотез методом `ICE` лидируют гипотезы под номерами 8, 0, 7. При приоритизации гипотез методом `RICE` лидируют гипотезы под номерами 7, 2, 0, 6. В данном случае гипотезы 7 и 2 заняли лидирующие позиции благодаря широкому охвату аудитории и достаточно низкому показателю затрат на проверку гипотез."
   ]
  },
  {
   "cell_type": "markdown",
   "metadata": {},
   "source": [
    "### A/B-тест."
   ]
  },
  {
   "cell_type": "markdown",
   "metadata": {},
   "source": [
    "<a id='2'></a>\n",
    "### [Ознакомление с данными](#1A)"
   ]
  },
  {
   "cell_type": "code",
   "execution_count": 6,
   "metadata": {},
   "outputs": [
    {
     "data": {
      "text/html": [
       "<div>\n",
       "<style scoped>\n",
       "    .dataframe tbody tr th:only-of-type {\n",
       "        vertical-align: middle;\n",
       "    }\n",
       "\n",
       "    .dataframe tbody tr th {\n",
       "        vertical-align: top;\n",
       "    }\n",
       "\n",
       "    .dataframe thead th {\n",
       "        text-align: right;\n",
       "    }\n",
       "</style>\n",
       "<table border=\"1\" class=\"dataframe\">\n",
       "  <thead>\n",
       "    <tr style=\"text-align: right;\">\n",
       "      <th></th>\n",
       "      <th>transactionId</th>\n",
       "      <th>visitorId</th>\n",
       "      <th>date</th>\n",
       "      <th>revenue</th>\n",
       "      <th>group</th>\n",
       "    </tr>\n",
       "  </thead>\n",
       "  <tbody>\n",
       "    <tr>\n",
       "      <th>0</th>\n",
       "      <td>3667963787</td>\n",
       "      <td>3312258926</td>\n",
       "      <td>2019-08-15</td>\n",
       "      <td>1650</td>\n",
       "      <td>B</td>\n",
       "    </tr>\n",
       "    <tr>\n",
       "      <th>1</th>\n",
       "      <td>2804400009</td>\n",
       "      <td>3642806036</td>\n",
       "      <td>2019-08-15</td>\n",
       "      <td>730</td>\n",
       "      <td>B</td>\n",
       "    </tr>\n",
       "    <tr>\n",
       "      <th>2</th>\n",
       "      <td>2961555356</td>\n",
       "      <td>4069496402</td>\n",
       "      <td>2019-08-15</td>\n",
       "      <td>400</td>\n",
       "      <td>A</td>\n",
       "    </tr>\n",
       "    <tr>\n",
       "      <th>3</th>\n",
       "      <td>3797467345</td>\n",
       "      <td>1196621759</td>\n",
       "      <td>2019-08-15</td>\n",
       "      <td>9759</td>\n",
       "      <td>B</td>\n",
       "    </tr>\n",
       "    <tr>\n",
       "      <th>4</th>\n",
       "      <td>2282983706</td>\n",
       "      <td>2322279887</td>\n",
       "      <td>2019-08-15</td>\n",
       "      <td>2308</td>\n",
       "      <td>B</td>\n",
       "    </tr>\n",
       "  </tbody>\n",
       "</table>\n",
       "</div>"
      ],
      "text/plain": [
       "   transactionId   visitorId        date  revenue group\n",
       "0     3667963787  3312258926  2019-08-15     1650     B\n",
       "1     2804400009  3642806036  2019-08-15      730     B\n",
       "2     2961555356  4069496402  2019-08-15      400     A\n",
       "3     3797467345  1196621759  2019-08-15     9759     B\n",
       "4     2282983706  2322279887  2019-08-15     2308     B"
      ]
     },
     "metadata": {},
     "output_type": "display_data"
    },
    {
     "data": {
      "text/html": [
       "<div>\n",
       "<style scoped>\n",
       "    .dataframe tbody tr th:only-of-type {\n",
       "        vertical-align: middle;\n",
       "    }\n",
       "\n",
       "    .dataframe tbody tr th {\n",
       "        vertical-align: top;\n",
       "    }\n",
       "\n",
       "    .dataframe thead th {\n",
       "        text-align: right;\n",
       "    }\n",
       "</style>\n",
       "<table border=\"1\" class=\"dataframe\">\n",
       "  <thead>\n",
       "    <tr style=\"text-align: right;\">\n",
       "      <th></th>\n",
       "      <th>date</th>\n",
       "      <th>group</th>\n",
       "      <th>visitors</th>\n",
       "    </tr>\n",
       "  </thead>\n",
       "  <tbody>\n",
       "    <tr>\n",
       "      <th>0</th>\n",
       "      <td>2019-08-01</td>\n",
       "      <td>A</td>\n",
       "      <td>719</td>\n",
       "    </tr>\n",
       "    <tr>\n",
       "      <th>1</th>\n",
       "      <td>2019-08-02</td>\n",
       "      <td>A</td>\n",
       "      <td>619</td>\n",
       "    </tr>\n",
       "    <tr>\n",
       "      <th>2</th>\n",
       "      <td>2019-08-03</td>\n",
       "      <td>A</td>\n",
       "      <td>507</td>\n",
       "    </tr>\n",
       "    <tr>\n",
       "      <th>3</th>\n",
       "      <td>2019-08-04</td>\n",
       "      <td>A</td>\n",
       "      <td>717</td>\n",
       "    </tr>\n",
       "    <tr>\n",
       "      <th>4</th>\n",
       "      <td>2019-08-05</td>\n",
       "      <td>A</td>\n",
       "      <td>756</td>\n",
       "    </tr>\n",
       "  </tbody>\n",
       "</table>\n",
       "</div>"
      ],
      "text/plain": [
       "         date group  visitors\n",
       "0  2019-08-01     A       719\n",
       "1  2019-08-02     A       619\n",
       "2  2019-08-03     A       507\n",
       "3  2019-08-04     A       717\n",
       "4  2019-08-05     A       756"
      ]
     },
     "execution_count": 6,
     "metadata": {},
     "output_type": "execute_result"
    }
   ],
   "source": [
    "orders = pd.read_csv('/datasets/orders.csv')\n",
    "visitors = pd.read_csv('/datasets/visitors.csv')\n",
    "display(orders.head())\n",
    "visitors.head()"
   ]
  },
  {
   "cell_type": "code",
   "execution_count": 7,
   "metadata": {},
   "outputs": [
    {
     "name": "stdout",
     "output_type": "stream",
     "text": [
      "<class 'pandas.core.frame.DataFrame'>\n",
      "RangeIndex: 1197 entries, 0 to 1196\n",
      "Data columns (total 5 columns):\n",
      " #   Column         Non-Null Count  Dtype \n",
      "---  ------         --------------  ----- \n",
      " 0   transactionId  1197 non-null   int64 \n",
      " 1   visitorId      1197 non-null   int64 \n",
      " 2   date           1197 non-null   object\n",
      " 3   revenue        1197 non-null   int64 \n",
      " 4   group          1197 non-null   object\n",
      "dtypes: int64(3), object(2)\n",
      "memory usage: 46.9+ KB\n"
     ]
    }
   ],
   "source": [
    "orders.info()"
   ]
  },
  {
   "cell_type": "code",
   "execution_count": 8,
   "metadata": {},
   "outputs": [
    {
     "name": "stdout",
     "output_type": "stream",
     "text": [
      "<class 'pandas.core.frame.DataFrame'>\n",
      "RangeIndex: 62 entries, 0 to 61\n",
      "Data columns (total 3 columns):\n",
      " #   Column    Non-Null Count  Dtype \n",
      "---  ------    --------------  ----- \n",
      " 0   date      62 non-null     object\n",
      " 1   group     62 non-null     object\n",
      " 2   visitors  62 non-null     int64 \n",
      "dtypes: int64(1), object(2)\n",
      "memory usage: 1.6+ KB\n"
     ]
    }
   ],
   "source": [
    "visitors.info()"
   ]
  },
  {
   "cell_type": "markdown",
   "metadata": {},
   "source": [
    "В таблицах отсутствуют пропущение значения, формат столбцов `date` нужно изменить на datetime."
   ]
  },
  {
   "cell_type": "markdown",
   "metadata": {},
   "source": [
    "<a id='3'></a>\n",
    "### [Предобработка данных](#1A)"
   ]
  },
  {
   "cell_type": "markdown",
   "metadata": {},
   "source": [
    "Приведем столбцы `date` в обоих датафреймах к формату datetime."
   ]
  },
  {
   "cell_type": "code",
   "execution_count": 9,
   "metadata": {},
   "outputs": [],
   "source": [
    "orders['date'] = orders['date'].map(lambda x: dt.datetime.strptime(x, '%Y-%m-%d'))\n",
    "visitors['date'] = visitors['date'].map(lambda x: dt.datetime.strptime(x, '%Y-%m-%d'))"
   ]
  },
  {
   "cell_type": "markdown",
   "metadata": {},
   "source": [
    "Проверим таблицы на наличие явных дубликатов."
   ]
  },
  {
   "cell_type": "code",
   "execution_count": 10,
   "metadata": {},
   "outputs": [
    {
     "data": {
      "text/plain": [
       "0"
      ]
     },
     "metadata": {},
     "output_type": "display_data"
    },
    {
     "data": {
      "text/plain": [
       "0"
      ]
     },
     "execution_count": 10,
     "metadata": {},
     "output_type": "execute_result"
    }
   ],
   "source": [
    "display(orders.duplicated().sum())\n",
    "visitors.duplicated().sum()"
   ]
  },
  {
   "cell_type": "markdown",
   "metadata": {},
   "source": [
    "Явные лубликаты отсутствуют."
   ]
  },
  {
   "cell_type": "markdown",
   "metadata": {},
   "source": [
    "Проверим таблицу `orders` на наличие покупателей которые попали в обе группы теста."
   ]
  },
  {
   "cell_type": "code",
   "execution_count": 11,
   "metadata": {},
   "outputs": [
    {
     "data": {
      "text/html": [
       "<div>\n",
       "<style scoped>\n",
       "    .dataframe tbody tr th:only-of-type {\n",
       "        vertical-align: middle;\n",
       "    }\n",
       "\n",
       "    .dataframe tbody tr th {\n",
       "        vertical-align: top;\n",
       "    }\n",
       "\n",
       "    .dataframe thead th {\n",
       "        text-align: right;\n",
       "    }\n",
       "</style>\n",
       "<table border=\"1\" class=\"dataframe\">\n",
       "  <thead>\n",
       "    <tr style=\"text-align: right;\">\n",
       "      <th></th>\n",
       "      <th>transactionId</th>\n",
       "      <th>visitorId</th>\n",
       "      <th>date</th>\n",
       "      <th>revenue</th>\n",
       "      <th>group</th>\n",
       "    </tr>\n",
       "  </thead>\n",
       "  <tbody>\n",
       "    <tr>\n",
       "      <th>2</th>\n",
       "      <td>2961555356</td>\n",
       "      <td>4069496402</td>\n",
       "      <td>2019-08-15</td>\n",
       "      <td>400</td>\n",
       "      <td>A</td>\n",
       "    </tr>\n",
       "    <tr>\n",
       "      <th>20</th>\n",
       "      <td>2904772834</td>\n",
       "      <td>963407295</td>\n",
       "      <td>2019-08-15</td>\n",
       "      <td>300</td>\n",
       "      <td>B</td>\n",
       "    </tr>\n",
       "    <tr>\n",
       "      <th>23</th>\n",
       "      <td>4252514150</td>\n",
       "      <td>351125977</td>\n",
       "      <td>2019-08-15</td>\n",
       "      <td>15185</td>\n",
       "      <td>B</td>\n",
       "    </tr>\n",
       "    <tr>\n",
       "      <th>24</th>\n",
       "      <td>1162046357</td>\n",
       "      <td>3234906277</td>\n",
       "      <td>2019-08-15</td>\n",
       "      <td>7555</td>\n",
       "      <td>B</td>\n",
       "    </tr>\n",
       "    <tr>\n",
       "      <th>26</th>\n",
       "      <td>2223239646</td>\n",
       "      <td>199603092</td>\n",
       "      <td>2019-08-15</td>\n",
       "      <td>3488</td>\n",
       "      <td>A</td>\n",
       "    </tr>\n",
       "    <tr>\n",
       "      <th>...</th>\n",
       "      <td>...</td>\n",
       "      <td>...</td>\n",
       "      <td>...</td>\n",
       "      <td>...</td>\n",
       "      <td>...</td>\n",
       "    </tr>\n",
       "    <tr>\n",
       "      <th>1182</th>\n",
       "      <td>2682156369</td>\n",
       "      <td>1668030113</td>\n",
       "      <td>2019-08-14</td>\n",
       "      <td>1290</td>\n",
       "      <td>B</td>\n",
       "    </tr>\n",
       "    <tr>\n",
       "      <th>1183</th>\n",
       "      <td>1458356232</td>\n",
       "      <td>963407295</td>\n",
       "      <td>2019-08-14</td>\n",
       "      <td>4940</td>\n",
       "      <td>A</td>\n",
       "    </tr>\n",
       "    <tr>\n",
       "      <th>1184</th>\n",
       "      <td>1329499668</td>\n",
       "      <td>2949041841</td>\n",
       "      <td>2019-08-14</td>\n",
       "      <td>10380</td>\n",
       "      <td>B</td>\n",
       "    </tr>\n",
       "    <tr>\n",
       "      <th>1189</th>\n",
       "      <td>4082620617</td>\n",
       "      <td>393266494</td>\n",
       "      <td>2019-08-14</td>\n",
       "      <td>31550</td>\n",
       "      <td>B</td>\n",
       "    </tr>\n",
       "    <tr>\n",
       "      <th>1195</th>\n",
       "      <td>1947021204</td>\n",
       "      <td>1614305549</td>\n",
       "      <td>2019-08-14</td>\n",
       "      <td>100</td>\n",
       "      <td>A</td>\n",
       "    </tr>\n",
       "  </tbody>\n",
       "</table>\n",
       "<p>181 rows × 5 columns</p>\n",
       "</div>"
      ],
      "text/plain": [
       "      transactionId   visitorId       date  revenue group\n",
       "2        2961555356  4069496402 2019-08-15      400     A\n",
       "20       2904772834   963407295 2019-08-15      300     B\n",
       "23       4252514150   351125977 2019-08-15    15185     B\n",
       "24       1162046357  3234906277 2019-08-15     7555     B\n",
       "26       2223239646   199603092 2019-08-15     3488     A\n",
       "...             ...         ...        ...      ...   ...\n",
       "1182     2682156369  1668030113 2019-08-14     1290     B\n",
       "1183     1458356232   963407295 2019-08-14     4940     A\n",
       "1184     1329499668  2949041841 2019-08-14    10380     B\n",
       "1189     4082620617   393266494 2019-08-14    31550     B\n",
       "1195     1947021204  1614305549 2019-08-14      100     A\n",
       "\n",
       "[181 rows x 5 columns]"
      ]
     },
     "metadata": {},
     "output_type": "display_data"
    },
    {
     "data": {
      "text/plain": [
       "58"
      ]
     },
     "execution_count": 11,
     "metadata": {},
     "output_type": "execute_result"
    }
   ],
   "source": [
    "Agroup = orders[orders['group'] == 'A']\n",
    "Bgroup = orders[orders['group'] == 'B']\n",
    "ABgroups = orders[orders['visitorId'].isin(Agroup['visitorId']) & orders['visitorId'].isin(Bgroup['visitorId'])]\n",
    "display(ABgroups)\n",
    "ABgroups['visitorId'].nunique()"
   ]
  },
  {
   "cell_type": "markdown",
   "metadata": {},
   "source": [
    "В группы А и В сразу попали 58 покупателей, удалим их, чтобы они не искажали результаты исследования."
   ]
  },
  {
   "cell_type": "code",
   "execution_count": 12,
   "metadata": {},
   "outputs": [],
   "source": [
    "orders = orders[~orders['visitorId'].isin(ABgroups['visitorId'])]"
   ]
  },
  {
   "cell_type": "markdown",
   "metadata": {},
   "source": [
    "Посмотрим на распределение количества посетителей по группам."
   ]
  },
  {
   "cell_type": "code",
   "execution_count": 13,
   "metadata": {},
   "outputs": [
    {
     "data": {
      "text/html": [
       "<div>\n",
       "<style scoped>\n",
       "    .dataframe tbody tr th:only-of-type {\n",
       "        vertical-align: middle;\n",
       "    }\n",
       "\n",
       "    .dataframe tbody tr th {\n",
       "        vertical-align: top;\n",
       "    }\n",
       "\n",
       "    .dataframe thead th {\n",
       "        text-align: right;\n",
       "    }\n",
       "</style>\n",
       "<table border=\"1\" class=\"dataframe\">\n",
       "  <thead>\n",
       "    <tr style=\"text-align: right;\">\n",
       "      <th></th>\n",
       "      <th>group</th>\n",
       "      <th>visitors</th>\n",
       "    </tr>\n",
       "  </thead>\n",
       "  <tbody>\n",
       "    <tr>\n",
       "      <th>0</th>\n",
       "      <td>A</td>\n",
       "      <td>18736</td>\n",
       "    </tr>\n",
       "    <tr>\n",
       "      <th>1</th>\n",
       "      <td>B</td>\n",
       "      <td>18916</td>\n",
       "    </tr>\n",
       "  </tbody>\n",
       "</table>\n",
       "</div>"
      ],
      "text/plain": [
       "  group  visitors\n",
       "0     A     18736\n",
       "1     B     18916"
      ]
     },
     "execution_count": 13,
     "metadata": {},
     "output_type": "execute_result"
    }
   ],
   "source": [
    "visitors.groupby('group').agg({'visitors' : 'sum'}).reset_index()"
   ]
  },
  {
   "cell_type": "markdown",
   "metadata": {},
   "source": [
    "Количество посетителей распределено по группам примерно одинаково: влияние на результаты А/В теста должны быть минимальными."
   ]
  },
  {
   "cell_type": "markdown",
   "metadata": {},
   "source": [
    "На этапе предобработки данных мы привели столбцы с датами к нужному формату, выяснили что в таблицах нет явных дубликотов, удалили покупителей которые попали сразу в обе группы теста, узнали, что распределение посетителей по группам примерно одинаковое и не должно сказаться на результатах теста."
   ]
  },
  {
   "cell_type": "markdown",
   "metadata": {},
   "source": [
    "<a id='4'></a>\n",
    "### [Анализ результатов А/B теста](#1A)"
   ]
  },
  {
   "cell_type": "markdown",
   "metadata": {},
   "source": [
    "#### Построим график кумулятивной выручки по группам."
   ]
  },
  {
   "cell_type": "markdown",
   "metadata": {},
   "source": [
    "Подготовим данный для анализа: создадим общую таблицу с кумулятивными занчениями заказов и посетитиелей по группам."
   ]
  },
  {
   "cell_type": "code",
   "execution_count": 14,
   "metadata": {},
   "outputs": [
    {
     "data": {
      "text/html": [
       "<div>\n",
       "<style scoped>\n",
       "    .dataframe tbody tr th:only-of-type {\n",
       "        vertical-align: middle;\n",
       "    }\n",
       "\n",
       "    .dataframe tbody tr th {\n",
       "        vertical-align: top;\n",
       "    }\n",
       "\n",
       "    .dataframe thead th {\n",
       "        text-align: right;\n",
       "    }\n",
       "</style>\n",
       "<table border=\"1\" class=\"dataframe\">\n",
       "  <thead>\n",
       "    <tr style=\"text-align: right;\">\n",
       "      <th></th>\n",
       "      <th>date</th>\n",
       "      <th>ordersPerDateA</th>\n",
       "      <th>revenuePerDateA</th>\n",
       "      <th>ordersPerDateB</th>\n",
       "      <th>revenuePerDateB</th>\n",
       "      <th>ordersCummulativeA</th>\n",
       "      <th>revenueCummulativeA</th>\n",
       "      <th>ordersCummulativeB</th>\n",
       "      <th>revenueCummulativeB</th>\n",
       "      <th>visitorsPerDateA</th>\n",
       "      <th>visitorsPerDateB</th>\n",
       "      <th>visitorsCummulativeA</th>\n",
       "      <th>visitorsCummulativeB</th>\n",
       "    </tr>\n",
       "  </thead>\n",
       "  <tbody>\n",
       "    <tr>\n",
       "      <th>0</th>\n",
       "      <td>2019-08-01</td>\n",
       "      <td>23</td>\n",
       "      <td>142779</td>\n",
       "      <td>17</td>\n",
       "      <td>59758</td>\n",
       "      <td>23</td>\n",
       "      <td>142779</td>\n",
       "      <td>17</td>\n",
       "      <td>59758</td>\n",
       "      <td>719</td>\n",
       "      <td>713</td>\n",
       "      <td>719</td>\n",
       "      <td>713</td>\n",
       "    </tr>\n",
       "    <tr>\n",
       "      <th>1</th>\n",
       "      <td>2019-08-02</td>\n",
       "      <td>19</td>\n",
       "      <td>91602</td>\n",
       "      <td>23</td>\n",
       "      <td>162043</td>\n",
       "      <td>42</td>\n",
       "      <td>234381</td>\n",
       "      <td>40</td>\n",
       "      <td>221801</td>\n",
       "      <td>619</td>\n",
       "      <td>581</td>\n",
       "      <td>1338</td>\n",
       "      <td>1294</td>\n",
       "    </tr>\n",
       "    <tr>\n",
       "      <th>2</th>\n",
       "      <td>2019-08-03</td>\n",
       "      <td>24</td>\n",
       "      <td>112473</td>\n",
       "      <td>14</td>\n",
       "      <td>67049</td>\n",
       "      <td>66</td>\n",
       "      <td>346854</td>\n",
       "      <td>54</td>\n",
       "      <td>288850</td>\n",
       "      <td>507</td>\n",
       "      <td>509</td>\n",
       "      <td>1845</td>\n",
       "      <td>1803</td>\n",
       "    </tr>\n",
       "    <tr>\n",
       "      <th>3</th>\n",
       "      <td>2019-08-04</td>\n",
       "      <td>11</td>\n",
       "      <td>41176</td>\n",
       "      <td>14</td>\n",
       "      <td>96890</td>\n",
       "      <td>77</td>\n",
       "      <td>388030</td>\n",
       "      <td>68</td>\n",
       "      <td>385740</td>\n",
       "      <td>717</td>\n",
       "      <td>770</td>\n",
       "      <td>2562</td>\n",
       "      <td>2573</td>\n",
       "    </tr>\n",
       "    <tr>\n",
       "      <th>4</th>\n",
       "      <td>2019-08-05</td>\n",
       "      <td>22</td>\n",
       "      <td>86383</td>\n",
       "      <td>21</td>\n",
       "      <td>89908</td>\n",
       "      <td>99</td>\n",
       "      <td>474413</td>\n",
       "      <td>89</td>\n",
       "      <td>475648</td>\n",
       "      <td>756</td>\n",
       "      <td>707</td>\n",
       "      <td>3318</td>\n",
       "      <td>3280</td>\n",
       "    </tr>\n",
       "  </tbody>\n",
       "</table>\n",
       "</div>"
      ],
      "text/plain": [
       "        date  ordersPerDateA  revenuePerDateA  ordersPerDateB  \\\n",
       "0 2019-08-01              23           142779              17   \n",
       "1 2019-08-02              19            91602              23   \n",
       "2 2019-08-03              24           112473              14   \n",
       "3 2019-08-04              11            41176              14   \n",
       "4 2019-08-05              22            86383              21   \n",
       "\n",
       "   revenuePerDateB  ordersCummulativeA  revenueCummulativeA  \\\n",
       "0            59758                  23               142779   \n",
       "1           162043                  42               234381   \n",
       "2            67049                  66               346854   \n",
       "3            96890                  77               388030   \n",
       "4            89908                  99               474413   \n",
       "\n",
       "   ordersCummulativeB  revenueCummulativeB  visitorsPerDateA  \\\n",
       "0                  17                59758               719   \n",
       "1                  40               221801               619   \n",
       "2                  54               288850               507   \n",
       "3                  68               385740               717   \n",
       "4                  89               475648               756   \n",
       "\n",
       "   visitorsPerDateB  visitorsCummulativeA  visitorsCummulativeB  \n",
       "0               713                   719                   713  \n",
       "1               581                  1338                  1294  \n",
       "2               509                  1845                  1803  \n",
       "3               770                  2562                  2573  \n",
       "4               707                  3318                  3280  "
      ]
     },
     "execution_count": 14,
     "metadata": {},
     "output_type": "execute_result"
    }
   ],
   "source": [
    "visitorsADaily = visitors[visitors['group'] == 'A'][['date', 'visitors']]\n",
    "visitorsADaily = visitorsADaily.rename(columns = {'visitors' : 'visitorsPerDateA'})\n",
    "visitorsACummulative = visitorsADaily.apply(lambda x: visitorsADaily[visitorsADaily['date'] <= x['date']]\n",
    "                                           .agg({'date' : 'max', 'visitorsPerDateA' : 'sum'}), axis=1)\n",
    "visitorsACummulative = visitorsACummulative.rename(columns = {'visitorsPerDateA' : 'visitorsCummulativeA'})\n",
    "visitorsBDaily = visitors[visitors['group'] == 'B'][['date', 'visitors']]\n",
    "visitorsBDaily = visitorsBDaily.rename(columns = {'visitors' : 'visitorsPerDateB'})\n",
    "visitorsBCummulative = visitorsBDaily.apply(lambda x: visitorsBDaily[visitorsBDaily['date'] <= x['date']]\n",
    "                                           .agg({'date' : 'max', 'visitorsPerDateB' : 'sum'}), axis=1)\n",
    "visitorsBCummulative = visitorsBCummulative.rename(columns = {'visitorsPerDateB' : 'visitorsCummulativeB'})\n",
    "ordersADaily = orders[orders['group'] == 'A'][['date', 'transactionId', 'visitorId', 'revenue']]\\\n",
    "               .groupby('date', as_index=False).agg({'transactionId' : pd.Series.nunique, 'revenue' : 'sum'})\n",
    "ordersADaily = ordersADaily.rename(columns = {'transactionId' : 'ordersPerDateA', 'revenue' : 'revenuePerDateA'})\n",
    "ordersACummulative = ordersADaily.apply(lambda x: ordersADaily[ordersADaily['date'] <= x['date']]\\\n",
    "                                       .agg({'date': 'max', 'ordersPerDateA': 'sum', 'revenuePerDateA': 'sum'}), axis=1)\\\n",
    "                                       .sort_values(by=['date'])\n",
    "ordersACummulative = ordersACummulative\\\n",
    "                    .rename(columns = {'ordersPerDateA' : 'ordersCummulativeA', 'revenuePerDateA' : 'revenueCummulativeA'})\n",
    "ordersBDaily = orders[orders['group'] == 'B'][['date', 'transactionId', 'visitorId', 'revenue']]\\\n",
    "               .groupby('date', as_index=False).agg({'transactionId' : pd.Series.nunique, 'revenue' : 'sum'})\n",
    "ordersBDaily = ordersBDaily.rename(columns = {'transactionId' : 'ordersPerDateB', 'revenue' : 'revenuePerDateB'})\n",
    "ordersBCummulative = ordersBDaily.apply(lambda x: ordersBDaily[ordersBDaily['date'] <= x['date']]\\\n",
    "                                       .agg({'date': 'max', 'ordersPerDateB': 'sum', 'revenuePerDateB': 'sum'}), axis=1)\\\n",
    "                                       .sort_values(by=['date'])\n",
    "ordersBCummulative = ordersBCummulative\\\n",
    "                    .rename(columns = {'ordersPerDateB' : 'ordersCummulativeB', 'revenuePerDateB' : 'revenueCummulativeB'})\n",
    "data = ordersADaily.merge(ordersBDaily, left_on='date', right_on='date', how='left')\\\n",
    "                   .merge(ordersACummulative, left_on='date', right_on='date', how='left')\\\n",
    "                   .merge(ordersBCummulative, left_on='date', right_on='date', how='left')\\\n",
    "                   .merge(visitorsADaily, left_on='date', right_on='date', how='left')\\\n",
    "                   .merge(visitorsBDaily, left_on='date', right_on='date', how='left')\\\n",
    "                   .merge(visitorsACummulative, left_on='date', right_on='date', how='left')\\\n",
    "                   .merge(visitorsBCummulative, left_on='date', right_on='date', how='left')\n",
    "data.head()"
   ]
  },
  {
   "cell_type": "markdown",
   "metadata": {},
   "source": [
    "Построим график кумулятивной выручки по группам."
   ]
  },
  {
   "cell_type": "code",
   "execution_count": 15,
   "metadata": {},
   "outputs": [
    {
     "data": {
      "image/png": "[encoded data removed]",
      "text/plain": [
       "<Figure size 864x504 with 1 Axes>"
      ]
     },
     "metadata": {
      "needs_background": "light"
     },
     "output_type": "display_data"
    }
   ],
   "source": [
    "plt.figure(figsize=(12, 7))\n",
    "plt.plot(data['date'], data['revenueCummulativeA'], label='Группа А')\n",
    "plt.plot(data['date'], data['revenueCummulativeB'], label='Группа B')\n",
    "plt.title('График кумулятивной выручки по группам')\n",
    "plt.xlabel('Дата')\n",
    "plt.ylabel('Кумулятивная выручка')\n",
    "plt.legend()\n",
    "plt.show()"
   ]
  },
  {
   "cell_type": "markdown",
   "metadata": {},
   "source": [
    "Из графика видно, что выручка растет в течение всего времени проведения эксперимента. При этом в группе В есть резкий скачок выручки, который может свидетельствовать об аномалиях, например об очень дорогой покупке."
   ]
  },
  {
   "cell_type": "markdown",
   "metadata": {},
   "source": [
    "#### Построим график кумулятивного среднего чека по группам."
   ]
  },
  {
   "cell_type": "code",
   "execution_count": 16,
   "metadata": {},
   "outputs": [
    {
     "data": {
      "image/png": "[encoded data removed]",
      "text/plain": [
       "<Figure size 864x504 with 1 Axes>"
      ]
     },
     "metadata": {
      "needs_background": "light"
     },
     "output_type": "display_data"
    }
   ],
   "source": [
    "plt.figure(figsize=(12, 7))\n",
    "plt.plot(data['date'], data['revenueCummulativeA'] / data['ordersCummulativeA'], label='Группа А')\n",
    "plt.plot(data['date'], data['revenueCummulativeB'] / data['ordersCummulativeB'], label='Группа B')\n",
    "plt.title('График кумулятивного среднего чека по группам')\n",
    "plt.xlabel('Дата')\n",
    "plt.ylabel('Сумма кумулятивного среднего чека')\n",
    "plt.legend()\n",
    "plt.show()"
   ]
  },
  {
   "cell_type": "markdown",
   "metadata": {},
   "source": [
    "Показатели среднего чека колеблются в начале теста и устанавливаются ближе к концу теста. Как и вслучае с кумулятивной выручкой имеется резких скачок среднего чека в группе В, которое может свидетельствовать об очень крупном заказе/заказах, затем наблюдается снижение среднего чека в указанной группе."
   ]
  },
  {
   "cell_type": "markdown",
   "metadata": {},
   "source": [
    "#### Построим график относительного изменения кумулятивного среднего чека группы B к группе A."
   ]
  },
  {
   "cell_type": "code",
   "execution_count": 17,
   "metadata": {},
   "outputs": [
    {
     "data": {
      "image/png": "[encoded data removed]",
      "text/plain": [
       "<Figure size 864x504 with 1 Axes>"
      ]
     },
     "metadata": {
      "needs_background": "light"
     },
     "output_type": "display_data"
    }
   ],
   "source": [
    "plt.figure(figsize=(12, 7))\n",
    "plt.plot(data['date'], (data['revenueCummulativeB'] / data['ordersCummulativeB'])\\\n",
    "         / (data['revenueCummulativeA'] / data['ordersCummulativeA']) - 1)\n",
    "plt.title('График относительного изменения кумулятивного среднего чека группы B к группе A')\n",
    "plt.axhline(y=0, color='black', linestyle='--')\n",
    "plt.xlabel('Дата')\n",
    "plt.ylabel('% изменения')\n",
    "plt.show()"
   ]
  },
  {
   "cell_type": "markdown",
   "metadata": {},
   "source": [
    "На графике наблюдаются резкие скачки различий среднего чека между группами. Это свидетельствует о наличии аномалий в данных."
   ]
  },
  {
   "cell_type": "markdown",
   "metadata": {},
   "source": [
    "#### Построим график кумулятивного среднего количества заказов по группам (конверсии)."
   ]
  },
  {
   "cell_type": "code",
   "execution_count": 18,
   "metadata": {},
   "outputs": [
    {
     "data": {
      "image/png": "[encoded data removed]",
      "text/plain": [
       "<Figure size 864x504 with 1 Axes>"
      ]
     },
     "metadata": {
      "needs_background": "light"
     },
     "output_type": "display_data"
    }
   ],
   "source": [
    "plt.figure(figsize=(12, 7))\n",
    "plt.plot(data['date'], data['ordersCummulativeA'] / data['visitorsCummulativeA'], label='Группа А')\n",
    "plt.plot(data['date'], data['ordersCummulativeB'] / data['visitorsCummulativeB'], label='Группа B')\n",
    "plt.title('График кумулятивного среднего количества заказов по группам (конверсия)')\n",
    "plt.xlabel('Дата')\n",
    "plt.ylabel('Коэффициент конверсии')\n",
    "plt.legend()\n",
    "plt.axis([data['date'].min(), data['date'].max(), 0, 0.05]) \n",
    "plt.show()"
   ]
  },
  {
   "cell_type": "markdown",
   "metadata": {},
   "source": [
    "Сначала конверсия группы А была выше, затем конверсия групы Б вышла вперед и лидирует вплодь до конца теста. С течением времени конверсия стабилизировалась."
   ]
  },
  {
   "cell_type": "markdown",
   "metadata": {},
   "source": [
    "#### Построим график относительного изменения кумулятивного среднего количества заказов группы B к группе A."
   ]
  },
  {
   "cell_type": "code",
   "execution_count": 19,
   "metadata": {},
   "outputs": [
    {
     "data": {
      "image/png": "[encoded data removed]",
      "text/plain": [
       "<Figure size 864x504 with 1 Axes>"
      ]
     },
     "metadata": {
      "needs_background": "light"
     },
     "output_type": "display_data"
    }
   ],
   "source": [
    "plt.figure(figsize=(12, 7))\n",
    "plt.plot(data['date'], (data['ordersCummulativeB'] / data['visitorsCummulativeB'])\\\n",
    "         / (data['ordersCummulativeA'] / data['visitorsCummulativeA']) - 1)\n",
    "plt.title('График относительного изменения кумулятивного среднего количества заказов группы B к группе A')\n",
    "plt.axhline(y=0, color='black', linestyle='--')\n",
    "plt.axhline(y=0.10, color='brown', linestyle='--')\n",
    "plt.axhline(y=0.16, color='grey', linestyle='--')\n",
    "plt.axis([data['date'].min(), data['date'].max(), -0.3, 0.3])\n",
    "plt.xlabel('Дата')\n",
    "plt.ylabel('% изменения')\n",
    "plt.show()"
   ]
  },
  {
   "cell_type": "markdown",
   "metadata": {},
   "source": [
    "Относительное изменение конверсии группы В к группе А характеризуется резкими всплесками в начале эксперимента, затем небольшими подъемами и спадами. В целом отношение конверсии еще не установилось."
   ]
  },
  {
   "cell_type": "markdown",
   "metadata": {},
   "source": [
    "#### Построим точечный график количества заказов по пользователям."
   ]
  },
  {
   "cell_type": "code",
   "execution_count": 20,
   "metadata": {},
   "outputs": [],
   "source": [
    "ordersByUsers = orders.groupby('visitorId', as_index=False).agg({'transactionId' : 'nunique'})\n",
    "ordersByUsers = ordersByUsers.rename(columns={'transactionId' : 'orders'})"
   ]
  },
  {
   "cell_type": "code",
   "execution_count": 21,
   "metadata": {},
   "outputs": [
    {
     "data": {
      "image/png": "[encoded data removed]",
      "text/plain": [
       "<Figure size 432x288 with 1 Axes>"
      ]
     },
     "metadata": {
      "needs_background": "light"
     },
     "output_type": "display_data"
    }
   ],
   "source": [
    "x_values = pd.Series(range(0,len(ordersByUsers)))\n",
    "plt.scatter(x_values, ordersByUsers['orders'])\n",
    "plt.title('График количества заказов по пользователям')\n",
    "plt.xlabel('Нумерация заказов')\n",
    "plt.ylabel('Количество заказов на пользователя')\n",
    "plt.show()"
   ]
  },
  {
   "cell_type": "markdown",
   "metadata": {},
   "source": [
    "Большинство пользователей делают 1 заказ, есть пользователи с 2-3 заказами."
   ]
  },
  {
   "cell_type": "markdown",
   "metadata": {},
   "source": [
    "Посчитаем 95-й и 99-й перцентили количества заказов на пользователя."
   ]
  },
  {
   "cell_type": "code",
   "execution_count": 22,
   "metadata": {},
   "outputs": [
    {
     "data": {
      "text/plain": [
       "array([1., 2.])"
      ]
     },
     "execution_count": 22,
     "metadata": {},
     "output_type": "execute_result"
    }
   ],
   "source": [
    "np.percentile(ordersByUsers['orders'], [95, 99])"
   ]
  },
  {
   "cell_type": "markdown",
   "metadata": {},
   "source": [
    "Не более 5% пользователей оформли более 1 заказа и не более 1% пользователей оформили более 2 заказов. Будем считать аномальными покупателей, которые совершили более 2 покупок."
   ]
  },
  {
   "cell_type": "markdown",
   "metadata": {},
   "source": [
    "#### Построим точечный график стоимостей заказов."
   ]
  },
  {
   "cell_type": "code",
   "execution_count": 23,
   "metadata": {},
   "outputs": [
    {
     "data": {
      "image/png": "[encoded data removed]",
      "text/plain": [
       "<Figure size 432x288 with 1 Axes>"
      ]
     },
     "metadata": {
      "needs_background": "light"
     },
     "output_type": "display_data"
    }
   ],
   "source": [
    "x_values = pd.Series(range(0,len(orders['revenue'])))\n",
    "plt.scatter(x_values, orders['revenue'])\n",
    "plt.title('График стоимостей заказов')\n",
    "plt.xlabel('Нумерация заказов')\n",
    "plt.ylabel('Стоимость заказа на пользователя')\n",
    "plt.show()"
   ]
  },
  {
   "cell_type": "code",
   "execution_count": 24,
   "metadata": {},
   "outputs": [
    {
     "data": {
      "image/png": "[encoded data removed]",
      "text/plain": [
       "<Figure size 432x288 with 1 Axes>"
      ]
     },
     "metadata": {
      "needs_background": "light"
     },
     "output_type": "display_data"
    }
   ],
   "source": [
    "plt.scatter(x_values, orders['revenue'])\n",
    "plt.axis([x_values.min() - 20, x_values.max() + 20, 0, 0.25*10**6])\n",
    "plt.title('График стоимостей заказов без аномального значения')\n",
    "plt.xlabel('Нумерация заказов')\n",
    "plt.ylabel('Стоимость заказа на пользователя')\n",
    "plt.show()"
   ]
  },
  {
   "cell_type": "markdown",
   "metadata": {},
   "source": [
    "Судя по графику стоимость большинства заказов значительно меньше 100000. При этом есть заказ стоимостью выше 1.2 млн."
   ]
  },
  {
   "cell_type": "markdown",
   "metadata": {},
   "source": [
    "Посчитаем 95-й и 99-й перцентили стоимости заказов."
   ]
  },
  {
   "cell_type": "code",
   "execution_count": 25,
   "metadata": {},
   "outputs": [
    {
     "data": {
      "text/plain": [
       "array([26785., 53904.])"
      ]
     },
     "execution_count": 25,
     "metadata": {},
     "output_type": "execute_result"
    }
   ],
   "source": [
    "np.percentile(orders['revenue'], [95, 99])"
   ]
  },
  {
   "cell_type": "markdown",
   "metadata": {},
   "source": [
    "Не более 5% заказов стоят более 26785 и не более 1% стоят более 53904. Будем считать аномальными покупателей которые совершили покупки на сумму дороже 26785."
   ]
  },
  {
   "cell_type": "markdown",
   "metadata": {},
   "source": [
    "#### Посчитаем статистическую значимость различий в среднем количестве заказов между группами по «сырым» данным.\n",
    "Примем за нулевую гипотезу, что различий в среднем количестве заказов между группами нет, альтернативня гипотеза: различия в среднем количестве заказов между группами есть.\n",
    "Уровень значимости alpha = 0.05."
   ]
  },
  {
   "cell_type": "code",
   "execution_count": 26,
   "metadata": {},
   "outputs": [],
   "source": [
    "ordersByUsersA = orders[orders['group'] == 'A'].groupby('visitorId', as_index=False).agg({'transactionId' : 'nunique'})\n",
    "ordersByUsersA = ordersByUsersA.rename(columns={'transactionId' : 'orders'})\n",
    "ordersByUsersB = orders[orders['group'] == 'B'].groupby('visitorId', as_index=False).agg({'transactionId' : 'nunique'})\n",
    "ordersByUsersB = ordersByUsersB.rename(columns={'transactionId' : 'orders'})\n",
    "sampleA = pd.concat([ordersByUsersA['orders'],\\\n",
    "                pd.Series(0, index=np.arange(data['visitorsPerDateA'].sum() - len(ordersByUsersA['orders'])), name='orders')],\\\n",
    "                   axis=0)\n",
    "sampleB = pd.concat([ordersByUsersB['orders'],\\\n",
    "                pd.Series(0, index=np.arange(data['visitorsPerDateB'].sum() - len(ordersByUsersB['orders'])), name='orders')],\\\n",
    "                   axis=0)"
   ]
  },
  {
   "cell_type": "code",
   "execution_count": 27,
   "metadata": {},
   "outputs": [
    {
     "name": "stdout",
     "output_type": "stream",
     "text": [
      "p-value: 0.011\n",
      "относительный прирост среднего числа заказов группы B: 0.160\n"
     ]
    }
   ],
   "source": [
    "print(\"p-value: {0:.3f}\".format(stats.mannwhitneyu(sampleA, sampleB)[1]))\n",
    "print(\"относительный прирост среднего числа заказов группы B: {0:.3f}\".format(sampleB.mean() / sampleA.mean() - 1))"
   ]
  },
  {
   "cell_type": "markdown",
   "metadata": {},
   "source": [
    "p-value меньше уровня значимости alpha. В результате проверки гипотезы можно сказать, что по имеющимся «сырым» данным на уровне значимости 5% есть основания отвергнуть нулевую гипотезу в пользу альтернативы: различия в среднем числе заказов групп A и B есть. Относительный прирост среднего числа заказов группы В равен 16%."
   ]
  },
  {
   "cell_type": "markdown",
   "metadata": {},
   "source": [
    "#### Посчитаем статистическую значимость различий в среднем чеке заказа между группами по «сырым» данным. \n",
    "Примем за нулевую гипотезу, что различий в среднем чеке заказа между группами нет, альтернативня гипотеза: различия в среднем чеке заказа между группами есть.\n",
    "Уровень значимости alpha = 0.05."
   ]
  },
  {
   "cell_type": "code",
   "execution_count": 28,
   "metadata": {},
   "outputs": [
    {
     "name": "stdout",
     "output_type": "stream",
     "text": [
      "p-value: 0.829\n",
      "относительный прирост среднего чека заказа группы B: 0.287\n"
     ]
    }
   ],
   "source": [
    "print('p-value: {0:.3f}'\\\n",
    "      .format(stats.mannwhitneyu(orders[orders['group']=='A']['revenue'], orders[orders['group']=='B']['revenue'])[1]))\n",
    "print('относительный прирост среднего чека заказа группы B: {0:.3f}'\\\n",
    "      .format(orders[orders['group']=='B']['revenue'].mean()/orders[orders['group']=='A']['revenue'].mean()-1))"
   ]
  },
  {
   "cell_type": "markdown",
   "metadata": {},
   "source": [
    "p-value значительно больше уровня значимости alpha. В результате проверки гипотезы можно сказать, что по имеющимся «сырым» данным на уровне значимости 5% нет оснований отвергнуть нулевую гипотезу об отсутствии различий в среднем чеке заказа между группами в пользу альтернативы. Относительный прирост среднего чека заказа группы В равен 28,7%, при учете верности нулевой гипотезы о равенстве сердних чеков, можно предположить что такой прирост связан с влиянием выбросов."
   ]
  },
  {
   "cell_type": "markdown",
   "metadata": {},
   "source": [
    "Исключим аномальных пользователей из исследования."
   ]
  },
  {
   "cell_type": "code",
   "execution_count": 29,
   "metadata": {},
   "outputs": [
    {
     "data": {
      "text/plain": [
       "58"
      ]
     },
     "execution_count": 29,
     "metadata": {},
     "output_type": "execute_result"
    }
   ],
   "source": [
    "usersWithManyOrders = pd.concat([ordersByUsersA[ordersByUsersA['orders'] > \\\n",
    "                                 np.percentile(ordersByUsers['orders'], 99)]['visitorId'],\\\n",
    "                                 ordersByUsersB[ordersByUsersB['orders'] > \\\n",
    "                                 np.percentile(ordersByUsers['orders'], 99)]['visitorId']], axis=0)\n",
    "usersWithExpensiveOrders = orders[orders['revenue'] > np.percentile(orders['revenue'], 95)]['visitorId']\n",
    "abnormalUsers = pd.concat([usersWithManyOrders, usersWithExpensiveOrders], axis=0).drop_duplicates().sort_values()\n",
    "abnormalUsers.shape[0]"
   ]
  },
  {
   "cell_type": "code",
   "execution_count": 30,
   "metadata": {},
   "outputs": [],
   "source": [
    "sampleAFiltered = pd.concat([ordersByUsersA[np.logical_not(ordersByUsersA['visitorId'].isin(abnormalUsers))]['orders'],\\\n",
    "    pd.Series(0, index=np.arange(data['visitorsPerDateA'].sum() - len(ordersByUsersA['orders'])), name='orders')], axis=0)\n",
    "sampleBFiltered = pd.concat([ordersByUsersB[np.logical_not(ordersByUsersB['visitorId'].isin(abnormalUsers))]['orders'],\\\n",
    "    pd.Series(0, index=np.arange(data['visitorsPerDateB'].sum() - len(ordersByUsersB['orders'])), name='orders')], axis=0)"
   ]
  },
  {
   "cell_type": "markdown",
   "metadata": {},
   "source": [
    "#### Посчитаем статистическую значимость различий в среднем количестве заказов между группами по «очищенным» данным. \n",
    "Примем за нулевую гипотезу, что различий в среднем количестве заказов между группами нет, альтернативня гипотеза: различия в среднем количестве заказов между группами есть. Уровень значимости alpha = 0.05."
   ]
  },
  {
   "cell_type": "code",
   "execution_count": 31,
   "metadata": {},
   "outputs": [
    {
     "name": "stdout",
     "output_type": "stream",
     "text": [
      "p-value: 0.01235\n",
      "относительный прирост среднего числа заказов группы B: 0.182\n"
     ]
    }
   ],
   "source": [
    "print('p-value: {0:.5f}'.format(stats.mannwhitneyu(sampleAFiltered, sampleBFiltered)[1]))\n",
    "print('относительный прирост среднего числа заказов группы B: {0:.3f}'.format(sampleBFiltered.mean()/sampleAFiltered.mean()-1))"
   ]
  },
  {
   "cell_type": "markdown",
   "metadata": {},
   "source": [
    "p-value меньше уровня значимости alpha. В результате проверки гипотезы можно сказать, что по имеющимся «очищенным» данным на уровне значимости 5% есть основания отвергнуть нулевую гипотезу в пользу альтернативы: различия в среднем числе заказов групп A и B есть. Относительный прирост среднего числа заказов группы В равен 18,7%, наблюдается увеличение на 2,7 процентных пункта по сравнению с  «сырыми» данными."
   ]
  },
  {
   "cell_type": "markdown",
   "metadata": {},
   "source": [
    "#### Посчитаем статистическую значимость различий в среднем чеке заказа между группами по «очищенным» данным. \n",
    "Примем за нулевую гипотезу, что различий в среднем чеке заказа между группами нет, альтернативня гипотеза: различия в среднем чеке заказа между группами есть.\n",
    "Уровень значимости alpha = 0.05."
   ]
  },
  {
   "cell_type": "code",
   "execution_count": 32,
   "metadata": {},
   "outputs": [
    {
     "name": "stdout",
     "output_type": "stream",
     "text": [
      "p-value: 0.646\n",
      "относительный прирост среднего чека заказа группы B: -0.048\n"
     ]
    }
   ],
   "source": [
    "print('p-value: {0:.3f}'.format(stats.mannwhitneyu(orders[np.logical_and(orders['group'] == 'A',\\\n",
    "                         np.logical_not(orders['visitorId'].isin(abnormalUsers)))]['revenue'],\\\n",
    "                         orders[np.logical_and(orders['group'] == 'B',\\\n",
    "                         np.logical_not(orders['visitorId'].isin(abnormalUsers)))]['revenue'])[1]))\n",
    "print('относительный прирост среднего чека заказа группы B: {0:.3f}'.format(orders[np.logical_and(orders['group'] == 'B',\\\n",
    "                         np.logical_not(orders['visitorId'].isin(abnormalUsers)))]['revenue'].mean() / \\\n",
    "                         orders[np.logical_and(orders['group'] == 'A',\\\n",
    "                         np.logical_not(orders['visitorId'].isin(abnormalUsers)))]['revenue'].mean() - 1))"
   ]
  },
  {
   "cell_type": "markdown",
   "metadata": {},
   "source": [
    "p-value значительно больше уровня значимости alpha. В результате проверки гипотезы можно сказать, что по имеющимся «очищенным» данным на уровне значимости 5% нет оснований отвергнуть нулевую гипотезу об отсутствии различий в среднем чеке заказа между группами в пользу альтернативы. Относительный прирост среднего чека заказа группы В равен -2,7%. После удаления выбросов относительный прирост среднего чека заказа группы В упал аж на 31,4 процентных пункта."
   ]
  },
  {
   "cell_type": "markdown",
   "metadata": {},
   "source": [
    "#### Для сравнения построим графики рассмотреных выше показателей по «очищенным» данным."
   ]
  },
  {
   "cell_type": "code",
   "execution_count": 33,
   "metadata": {},
   "outputs": [],
   "source": [
    "visitorsADaily = visitors[visitors['group'] == 'A'][['date', 'visitors']]\n",
    "visitorsADaily = visitorsADaily.rename(columns = {'visitors' : 'visitorsPerDateA'})\n",
    "visitorsACummulative = visitorsADaily.apply(lambda x: visitorsADaily[visitorsADaily['date'] <= x['date']]\n",
    "                                           .agg({'date' : 'max', 'visitorsPerDateA' : 'sum'}), axis=1)\n",
    "visitorsACummulative = visitorsACummulative.rename(columns = {'visitorsPerDateA' : 'visitorsCummulativeA'})\n",
    "visitorsBDaily = visitors[visitors['group'] == 'B'][['date', 'visitors']]\n",
    "visitorsBDaily = visitorsBDaily.rename(columns = {'visitors' : 'visitorsPerDateB'})\n",
    "visitorsBCummulative = visitorsBDaily.apply(lambda x: visitorsBDaily[visitorsBDaily['date'] <= x['date']]\n",
    "                                           .agg({'date' : 'max', 'visitorsPerDateB' : 'sum'}), axis=1)\n",
    "visitorsBCummulative = visitorsBCummulative.rename(columns = {'visitorsPerDateB' : 'visitorsCummulativeB'})\n",
    "ordersADaily = orders[np.logical_and(orders['group'] == 'A',\\\n",
    "                         np.logical_not(orders['visitorId'].isin(abnormalUsers)))]\\\n",
    "                         [['date', 'transactionId', 'visitorId', 'revenue']]\\\n",
    "               .groupby('date', as_index=False).agg({'transactionId' : pd.Series.nunique, 'revenue' : 'sum'})\n",
    "ordersADaily = ordersADaily.rename(columns = {'transactionId' : 'ordersPerDateA', 'revenue' : 'revenuePerDateA'})\n",
    "ordersACummulative = ordersADaily.apply(lambda x: ordersADaily[ordersADaily['date'] <= x['date']]\\\n",
    "                                       .agg({'date': 'max', 'ordersPerDateA': 'sum', 'revenuePerDateA': 'sum'}), axis=1)\\\n",
    "                                       .sort_values(by=['date'])\n",
    "ordersACummulative = ordersACummulative\\\n",
    "                    .rename(columns = {'ordersPerDateA' : 'ordersCummulativeA', 'revenuePerDateA' : 'revenueCummulativeA'})\n",
    "ordersBDaily = orders[np.logical_and(orders['group'] == 'B',\\\n",
    "                         np.logical_not(orders['visitorId'].isin(abnormalUsers)))]\\\n",
    "                         [['date', 'transactionId', 'visitorId', 'revenue']]\\\n",
    "               .groupby('date', as_index=False).agg({'transactionId' : pd.Series.nunique, 'revenue' : 'sum'})\n",
    "ordersBDaily = ordersBDaily.rename(columns = {'transactionId' : 'ordersPerDateB', 'revenue' : 'revenuePerDateB'})\n",
    "ordersBCummulative = ordersBDaily.apply(lambda x: ordersBDaily[ordersBDaily['date'] <= x['date']]\\\n",
    "                                       .agg({'date': 'max', 'ordersPerDateB': 'sum', 'revenuePerDateB': 'sum'}), axis=1)\\\n",
    "                                       .sort_values(by=['date'])\n",
    "ordersBCummulative = ordersBCummulative\\\n",
    "                    .rename(columns = {'ordersPerDateB' : 'ordersCummulativeB', 'revenuePerDateB' : 'revenueCummulativeB'})\n",
    "data = ordersADaily.merge(ordersBDaily, left_on='date', right_on='date', how='left')\\\n",
    "                   .merge(ordersACummulative, left_on='date', right_on='date', how='left')\\\n",
    "                   .merge(ordersBCummulative, left_on='date', right_on='date', how='left')\\\n",
    "                   .merge(visitorsADaily, left_on='date', right_on='date', how='left')\\\n",
    "                   .merge(visitorsBDaily, left_on='date', right_on='date', how='left')\\\n",
    "                   .merge(visitorsACummulative, left_on='date', right_on='date', how='left')\\\n",
    "                   .merge(visitorsBCummulative, left_on='date', right_on='date', how='left')"
   ]
  },
  {
   "cell_type": "code",
   "execution_count": 34,
   "metadata": {},
   "outputs": [
    {
     "data": {
      "image/png": "[encoded data removed]",
      "text/plain": [
       "<Figure size 864x504 with 1 Axes>"
      ]
     },
     "metadata": {
      "needs_background": "light"
     },
     "output_type": "display_data"
    }
   ],
   "source": [
    "plt.figure(figsize=(12, 7))\n",
    "plt.plot(data['date'], data['revenueCummulativeA'], label='Группа А')\n",
    "plt.plot(data['date'], data['revenueCummulativeB'], label='Группа B')\n",
    "plt.title('График кумулятивной выручки по группам')\n",
    "plt.xlabel('Дата')\n",
    "plt.ylabel('Кумулятивная выручка')\n",
    "plt.legend()\n",
    "plt.show()"
   ]
  },
  {
   "cell_type": "markdown",
   "metadata": {},
   "source": [
    "По графику видно, что после удаления аномалий исчез и резкий скачок выручки в группе В, при этом она все равно лидирует."
   ]
  },
  {
   "cell_type": "code",
   "execution_count": 35,
   "metadata": {},
   "outputs": [
    {
     "data": {
      "image/png": "[encoded data removed]",
      "text/plain": [
       "<Figure size 864x504 with 1 Axes>"
      ]
     },
     "metadata": {
      "needs_background": "light"
     },
     "output_type": "display_data"
    }
   ],
   "source": [
    "plt.figure(figsize=(12, 7))\n",
    "plt.plot(data['date'], data['revenueCummulativeB'] /  data['revenueCummulativeA'] - 1)\n",
    "plt.title('График относительного изменения выручки группы B к группе A')\n",
    "plt.xlabel('Дата')\n",
    "plt.ylabel('% изменения')\n",
    "plt.axhline(y=0, color='black', linestyle='--')\n",
    "plt.axhline(y=0.05, color='brown', linestyle='--')\n",
    "plt.show()"
   ]
  },
  {
   "cell_type": "markdown",
   "metadata": {},
   "source": [
    "Данный график показывает, что после неудачного старта все отсальное время группа В лидирует."
   ]
  },
  {
   "cell_type": "code",
   "execution_count": 36,
   "metadata": {},
   "outputs": [
    {
     "data": {
      "image/png": "[encoded data removed]",
      "text/plain": [
       "<Figure size 864x504 with 1 Axes>"
      ]
     },
     "metadata": {
      "needs_background": "light"
     },
     "output_type": "display_data"
    }
   ],
   "source": [
    "plt.figure(figsize=(12, 7))\n",
    "plt.plot(data['date'], data['revenueCummulativeA'] / data['ordersCummulativeA'], label='Группа А')\n",
    "plt.plot(data['date'], data['revenueCummulativeB'] / data['ordersCummulativeB'], label='Группа B')\n",
    "plt.title('График кумулятивного среднего чека по группам')\n",
    "plt.xlabel('Дата')\n",
    "plt.ylabel('Сумма кумулятивного среднего чека')\n",
    "plt.legend()\n",
    "plt.show()"
   ]
  },
  {
   "cell_type": "markdown",
   "metadata": {},
   "source": [
    "После очистки данных средний чек группы В в конце эксперимента стал чунь ниже группы А."
   ]
  },
  {
   "cell_type": "code",
   "execution_count": 37,
   "metadata": {},
   "outputs": [
    {
     "data": {
      "image/png": "[encoded data removed]",
      "text/plain": [
       "<Figure size 864x504 with 1 Axes>"
      ]
     },
     "metadata": {
      "needs_background": "light"
     },
     "output_type": "display_data"
    }
   ],
   "source": [
    "plt.figure(figsize=(12, 7))\n",
    "plt.plot(data['date'], (data['revenueCummulativeB'] / data['ordersCummulativeB'])\\\n",
    "         / (data['revenueCummulativeA'] / data['ordersCummulativeA']) - 1)\n",
    "plt.title('График относительного изменения кумулятивного среднего чека группы B к группе A')\n",
    "plt.xlabel('Дата')\n",
    "plt.ylabel('% изменения')\n",
    "plt.axhline(y=0, color='black', linestyle='--')\n",
    "plt.show()"
   ]
  },
  {
   "cell_type": "code",
   "execution_count": 38,
   "metadata": {},
   "outputs": [
    {
     "data": {
      "image/png": "[encoded data removed]",
      "text/plain": [
       "<Figure size 864x504 with 1 Axes>"
      ]
     },
     "metadata": {
      "needs_background": "light"
     },
     "output_type": "display_data"
    }
   ],
   "source": [
    "plt.figure(figsize=(12, 7))\n",
    "plt.plot(data['date'], data['ordersCummulativeA'] / data['visitorsCummulativeA'], label='Группа А')\n",
    "plt.plot(data['date'], data['ordersCummulativeB'] / data['visitorsCummulativeB'], label='Группа B')\n",
    "plt.title('График кумулятивного среднего количества заказов по группам (конверсия)')\n",
    "plt.xlabel('Дата')\n",
    "plt.ylabel('Коэффициент конверсии')\n",
    "plt.legend()\n",
    "plt.axis([data['date'].min(), data['date'].max(), 0, 0.05]) \n",
    "plt.show()"
   ]
  },
  {
   "cell_type": "markdown",
   "metadata": {},
   "source": [
    "Даже после удаления аномалий конверсия группы В выше, чем у группы А."
   ]
  },
  {
   "cell_type": "code",
   "execution_count": 39,
   "metadata": {},
   "outputs": [
    {
     "data": {
      "image/png": "[encoded data removed]",
      "text/plain": [
       "<Figure size 864x504 with 1 Axes>"
      ]
     },
     "metadata": {
      "needs_background": "light"
     },
     "output_type": "display_data"
    }
   ],
   "source": [
    "plt.figure(figsize=(12, 7))\n",
    "plt.plot(data['date'], (data['ordersCummulativeB'] / data['visitorsCummulativeB'])\\\n",
    "         / (data['ordersCummulativeA'] / data['visitorsCummulativeA']) - 1)\n",
    "plt.title('График относительного изменения кумулятивного среднего количества заказов группы B к группе A')\n",
    "plt.xlabel('Дата')\n",
    "plt.ylabel('% изменения')\n",
    "plt.axhline(y=0, color='black', linestyle='--')\n",
    "plt.axhline(y=0.18, color='grey', linestyle='--')\n",
    "plt.axis([data['date'].min(), data['date'].max(), -0.3, 0.3]) \n",
    "plt.show()"
   ]
  },
  {
   "cell_type": "markdown",
   "metadata": {},
   "source": [
    "Таким образом мы видим, что есть различия в конверсии между группами как по «сырым» данным, так и по «очищенным», при этом лидирует группа В. Различий в среднем чеке заказа между группами нет как по «сырым» данным, так и по «очищенным», при этом по «сырым» данным группа В впереди на 28,7%, а по «очищенным» отстает от группы А на 2,7%. Вместе с тем показатель выручки группы В как по «сырым» данным, так и по «очищенным» выше группы А. С учетом увеличения превышения конверсии группы В над группой А, а также большей выручки группы В при одинаковом среднем чеке рекомендуется остановить тест и зафиксировать победу группы В."
   ]
  },
  {
   "cell_type": "markdown",
   "metadata": {},
   "source": [
    "<a id='5'></a>\n",
    "### [Общий вывод](#1A)"
   ]
  },
  {
   "cell_type": "markdown",
   "metadata": {},
   "source": [
    "На этапе приоритизации гипотез выяснили:\n",
    "при приоритизации гипотез методом `ICE` лидируют гипотезы под номерами 8, 0, 7. При приоритизации гипотез методом `RICE` лидируют гипотезы под номерами 7, 2, 0, 6. В данном случае гипотезы 7 и 2 заняли лидирующие позиции благодаря широкому охвату аудитории и достаточно низкому показателю затрат на проверку гипотез."
   ]
  },
  {
   "cell_type": "markdown",
   "metadata": {},
   "source": [
    "А/В тест"
   ]
  },
  {
   "cell_type": "markdown",
   "metadata": {},
   "source": [
    "На этапе озакомления с данными мы выяснили, что в таблицах отсутствуют пропущение значения, формат столбцов date нужно изменить на datetime."
   ]
  },
  {
   "cell_type": "markdown",
   "metadata": {},
   "source": [
    "На этапе предобработки данных мы привели столбцы с датами к нужному формату, выяснили что в таблицах нет явных дубликотов, удалили покупителей которые попали сразу в обе группы теста, узнали, что распределение посетителей по группам примерно одинаковое и не должно сказаться на результатах теста."
   ]
  },
  {
   "cell_type": "markdown",
   "metadata": {},
   "source": [
    "На этапе анализа А/В теста:\n",
    "выяснили, что есть различия в конверсии между группами как по «сырым» данным, так и по «очищенным», при этом лидирует группа В. Различий в среднем чеке заказа между группами нет как по «сырым» данным, так и по «очищенным», при этом по «сырым» данным группа В впереди на 28,7%, а по «очищенным» отстает от группы А на 2,7%. Вместе с тем показатель выручки группы В как по «сырым» данным, так и по «очищенным» выше группы А. С учетом увеличения превышения конверсии группы В над группой А, а также большей выручки группы В при одинаковом среднем чеке рекомендуется остановить тест и зафиксировать победу группы В."
   ]
  },
  {
   "cell_type": "code",
   "execution_count": null,
   "metadata": {},
   "outputs": [],
   "source": []
  }
 ],
 "metadata": {
  "ExecuteTimeLog": [
   {
    "duration": 1246,
    "start_time": "2022-10-26T06:23:34.805Z"
   },
   {
    "duration": 130,
    "start_time": "2022-10-26T06:25:47.244Z"
   },
   {
    "duration": 42,
    "start_time": "2022-10-26T06:26:11.973Z"
   },
   {
    "duration": 34,
    "start_time": "2022-10-26T06:26:22.927Z"
   },
   {
    "duration": 31,
    "start_time": "2022-10-26T06:26:33.546Z"
   },
   {
    "duration": 33,
    "start_time": "2022-10-26T06:26:45.188Z"
   },
   {
    "duration": 30,
    "start_time": "2022-10-26T06:26:51.261Z"
   },
   {
    "duration": 27,
    "start_time": "2022-10-26T06:29:05.803Z"
   },
   {
    "duration": 34,
    "start_time": "2022-10-26T06:29:12.115Z"
   },
   {
    "duration": 12,
    "start_time": "2022-10-26T06:31:53.031Z"
   },
   {
    "duration": 3,
    "start_time": "2022-10-26T06:36:10.291Z"
   },
   {
    "duration": 8,
    "start_time": "2022-10-26T06:36:10.296Z"
   },
   {
    "duration": 36,
    "start_time": "2022-10-26T06:36:10.305Z"
   },
   {
    "duration": 9,
    "start_time": "2022-10-26T06:36:10.343Z"
   },
   {
    "duration": 44,
    "start_time": "2022-10-26T06:37:34.192Z"
   },
   {
    "duration": 10,
    "start_time": "2022-10-26T06:38:16.388Z"
   },
   {
    "duration": 95,
    "start_time": "2022-10-26T08:31:11.647Z"
   },
   {
    "duration": 10,
    "start_time": "2022-10-26T08:31:21.435Z"
   },
   {
    "duration": 53,
    "start_time": "2022-10-26T08:32:31.698Z"
   },
   {
    "duration": 10,
    "start_time": "2022-10-26T08:32:52.342Z"
   },
   {
    "duration": 16,
    "start_time": "2022-10-26T08:33:07.180Z"
   },
   {
    "duration": 146,
    "start_time": "2022-10-26T11:09:10.782Z"
   },
   {
    "duration": 14,
    "start_time": "2022-10-26T11:12:47.212Z"
   },
   {
    "duration": 11,
    "start_time": "2022-10-26T11:13:10.996Z"
   },
   {
    "duration": 52,
    "start_time": "2022-10-26T15:47:42.431Z"
   },
   {
    "duration": 4,
    "start_time": "2022-10-26T15:49:25.749Z"
   },
   {
    "duration": 9,
    "start_time": "2022-10-26T15:49:25.755Z"
   },
   {
    "duration": 34,
    "start_time": "2022-10-26T15:49:25.766Z"
   },
   {
    "duration": 10,
    "start_time": "2022-10-26T15:49:25.802Z"
   },
   {
    "duration": 11,
    "start_time": "2022-10-26T15:49:25.814Z"
   },
   {
    "duration": 63,
    "start_time": "2022-10-26T15:49:25.827Z"
   },
   {
    "duration": 9,
    "start_time": "2022-10-26T15:49:25.892Z"
   },
   {
    "duration": 11,
    "start_time": "2022-10-26T15:49:25.903Z"
   },
   {
    "duration": 51,
    "start_time": "2022-10-26T15:49:25.916Z"
   },
   {
    "duration": 43,
    "start_time": "2022-10-26T15:49:33.100Z"
   },
   {
    "duration": 50,
    "start_time": "2022-10-26T15:49:42.212Z"
   },
   {
    "duration": 284,
    "start_time": "2022-10-26T15:50:48.783Z"
   },
   {
    "duration": 13,
    "start_time": "2022-10-26T15:51:18.558Z"
   },
   {
    "duration": 11,
    "start_time": "2022-10-26T15:51:25.750Z"
   },
   {
    "duration": 10,
    "start_time": "2022-10-26T15:51:34.265Z"
   },
   {
    "duration": 9,
    "start_time": "2022-10-26T15:51:41.565Z"
   },
   {
    "duration": 8,
    "start_time": "2022-10-26T15:51:49.514Z"
   },
   {
    "duration": 10,
    "start_time": "2022-10-26T15:52:11.948Z"
   },
   {
    "duration": 8,
    "start_time": "2022-10-26T15:54:34.661Z"
   },
   {
    "duration": 9,
    "start_time": "2022-10-26T15:54:46.425Z"
   },
   {
    "duration": 9,
    "start_time": "2022-10-26T16:05:01.151Z"
   },
   {
    "duration": 12,
    "start_time": "2022-10-26T16:09:17.417Z"
   },
   {
    "duration": 14,
    "start_time": "2022-10-26T16:09:45.226Z"
   },
   {
    "duration": 9,
    "start_time": "2022-10-26T16:09:51.640Z"
   },
   {
    "duration": 4,
    "start_time": "2022-10-26T16:10:15.752Z"
   },
   {
    "duration": 3,
    "start_time": "2022-10-26T16:11:51.203Z"
   },
   {
    "duration": 6,
    "start_time": "2022-10-26T16:11:57.398Z"
   },
   {
    "duration": 5,
    "start_time": "2022-10-26T16:12:17.189Z"
   },
   {
    "duration": 3,
    "start_time": "2022-10-26T16:12:35.123Z"
   },
   {
    "duration": 4,
    "start_time": "2022-10-26T16:12:49.152Z"
   },
   {
    "duration": 3,
    "start_time": "2022-10-26T16:13:20.064Z"
   },
   {
    "duration": 3,
    "start_time": "2022-10-26T16:13:23.920Z"
   },
   {
    "duration": 3,
    "start_time": "2022-10-26T16:14:59.000Z"
   },
   {
    "duration": 4,
    "start_time": "2022-10-26T16:19:49.367Z"
   },
   {
    "duration": 5,
    "start_time": "2022-10-26T16:19:51.223Z"
   },
   {
    "duration": 5,
    "start_time": "2022-10-26T16:20:24.640Z"
   },
   {
    "duration": 4,
    "start_time": "2022-10-26T16:20:26.274Z"
   },
   {
    "duration": 4,
    "start_time": "2022-10-26T16:23:23.096Z"
   },
   {
    "duration": 11,
    "start_time": "2022-10-26T16:23:30.483Z"
   },
   {
    "duration": 11,
    "start_time": "2022-10-26T16:23:57.784Z"
   },
   {
    "duration": 11,
    "start_time": "2022-10-26T16:24:50.655Z"
   },
   {
    "duration": 8,
    "start_time": "2022-10-26T16:26:20.862Z"
   },
   {
    "duration": 8,
    "start_time": "2022-10-26T16:26:25.755Z"
   },
   {
    "duration": 9,
    "start_time": "2022-10-26T16:28:17.955Z"
   },
   {
    "duration": 5,
    "start_time": "2022-10-26T16:28:37.540Z"
   },
   {
    "duration": 12,
    "start_time": "2022-10-26T16:28:59.047Z"
   },
   {
    "duration": 11,
    "start_time": "2022-10-26T16:30:14.772Z"
   },
   {
    "duration": 12,
    "start_time": "2022-10-26T16:30:24.625Z"
   },
   {
    "duration": 8,
    "start_time": "2022-10-26T16:31:05.338Z"
   },
   {
    "duration": 7,
    "start_time": "2022-10-26T16:31:10.832Z"
   },
   {
    "duration": 10,
    "start_time": "2022-10-26T16:52:32.137Z"
   },
   {
    "duration": 5,
    "start_time": "2022-10-26T16:52:58.108Z"
   },
   {
    "duration": 11,
    "start_time": "2022-10-26T16:53:02.146Z"
   },
   {
    "duration": 10,
    "start_time": "2022-10-26T16:53:53.124Z"
   },
   {
    "duration": 11,
    "start_time": "2022-10-26T16:54:03.315Z"
   },
   {
    "duration": 3,
    "start_time": "2022-10-26T16:54:06.892Z"
   },
   {
    "duration": 7,
    "start_time": "2022-10-26T16:54:06.897Z"
   },
   {
    "duration": 40,
    "start_time": "2022-10-26T16:54:06.906Z"
   },
   {
    "duration": 10,
    "start_time": "2022-10-26T16:54:06.947Z"
   },
   {
    "duration": 12,
    "start_time": "2022-10-26T16:54:06.959Z"
   },
   {
    "duration": 60,
    "start_time": "2022-10-26T16:54:06.972Z"
   },
   {
    "duration": 9,
    "start_time": "2022-10-26T16:54:07.034Z"
   },
   {
    "duration": 13,
    "start_time": "2022-10-26T16:54:07.044Z"
   },
   {
    "duration": 17,
    "start_time": "2022-10-26T16:54:07.058Z"
   },
   {
    "duration": 12,
    "start_time": "2022-10-26T16:54:07.076Z"
   },
   {
    "duration": 12,
    "start_time": "2022-10-26T16:54:07.089Z"
   },
   {
    "duration": 46,
    "start_time": "2022-10-26T16:54:07.102Z"
   },
   {
    "duration": 10,
    "start_time": "2022-10-26T16:54:07.150Z"
   },
   {
    "duration": 29,
    "start_time": "2022-10-26T16:54:07.163Z"
   },
   {
    "duration": 10,
    "start_time": "2022-10-26T16:54:13.179Z"
   },
   {
    "duration": 4,
    "start_time": "2022-10-26T16:54:22.392Z"
   },
   {
    "duration": 42,
    "start_time": "2022-10-26T16:57:25.301Z"
   },
   {
    "duration": 50,
    "start_time": "2022-10-26T16:57:29.459Z"
   },
   {
    "duration": 48,
    "start_time": "2022-10-26T17:02:52.860Z"
   },
   {
    "duration": 95,
    "start_time": "2022-10-26T17:04:28.551Z"
   },
   {
    "duration": 8,
    "start_time": "2022-10-26T17:06:03.478Z"
   },
   {
    "duration": 67,
    "start_time": "2022-10-26T17:08:03.613Z"
   },
   {
    "duration": 97,
    "start_time": "2022-10-26T17:08:12.461Z"
   },
   {
    "duration": 105,
    "start_time": "2022-10-26T17:12:30.415Z"
   },
   {
    "duration": 147,
    "start_time": "2022-10-26T17:12:52.463Z"
   },
   {
    "duration": 143,
    "start_time": "2022-10-26T17:13:39.156Z"
   },
   {
    "duration": 214,
    "start_time": "2022-10-26T17:16:50.788Z"
   },
   {
    "duration": 140,
    "start_time": "2022-10-26T17:22:02.760Z"
   },
   {
    "duration": 134,
    "start_time": "2022-10-26T17:22:15.008Z"
   },
   {
    "duration": 248,
    "start_time": "2022-10-26T17:22:54.058Z"
   },
   {
    "duration": 148,
    "start_time": "2022-10-26T17:23:15.036Z"
   },
   {
    "duration": 284,
    "start_time": "2022-10-26T17:24:13.154Z"
   },
   {
    "duration": 196,
    "start_time": "2022-10-26T17:24:20.665Z"
   },
   {
    "duration": 223,
    "start_time": "2022-10-26T17:24:31.101Z"
   },
   {
    "duration": 201,
    "start_time": "2022-10-27T11:23:03.641Z"
   },
   {
    "duration": 198,
    "start_time": "2022-10-27T11:34:49.692Z"
   },
   {
    "duration": 354,
    "start_time": "2022-10-27T11:35:44.949Z"
   },
   {
    "duration": 316,
    "start_time": "2022-10-27T11:38:19.146Z"
   },
   {
    "duration": 319,
    "start_time": "2022-10-27T11:38:26.954Z"
   },
   {
    "duration": 223,
    "start_time": "2022-10-27T11:52:37.380Z"
   },
   {
    "duration": 228,
    "start_time": "2022-10-27T11:53:52.077Z"
   },
   {
    "duration": 183,
    "start_time": "2022-10-27T11:54:58.676Z"
   },
   {
    "duration": 209,
    "start_time": "2022-10-27T12:31:40.656Z"
   },
   {
    "duration": 238,
    "start_time": "2022-10-27T12:31:57.007Z"
   },
   {
    "duration": 242,
    "start_time": "2022-10-27T12:33:48.523Z"
   },
   {
    "duration": 302,
    "start_time": "2022-10-27T12:38:19.102Z"
   },
   {
    "duration": 269,
    "start_time": "2022-10-27T12:38:25.390Z"
   },
   {
    "duration": 265,
    "start_time": "2022-10-27T12:39:01.999Z"
   },
   {
    "duration": 300,
    "start_time": "2022-10-27T12:39:12.647Z"
   },
   {
    "duration": 310,
    "start_time": "2022-10-27T12:39:19.309Z"
   },
   {
    "duration": 300,
    "start_time": "2022-10-27T12:39:40.720Z"
   },
   {
    "duration": 295,
    "start_time": "2022-10-27T12:42:43.143Z"
   },
   {
    "duration": 293,
    "start_time": "2022-10-27T12:42:50.910Z"
   },
   {
    "duration": 298,
    "start_time": "2022-10-27T12:43:15.821Z"
   },
   {
    "duration": 276,
    "start_time": "2022-10-27T12:43:52.350Z"
   },
   {
    "duration": 766,
    "start_time": "2022-10-27T12:45:06.885Z"
   },
   {
    "duration": 304,
    "start_time": "2022-10-27T12:45:13.038Z"
   },
   {
    "duration": 8,
    "start_time": "2022-10-27T12:53:03.108Z"
   },
   {
    "duration": 10,
    "start_time": "2022-10-27T12:54:43.917Z"
   },
   {
    "duration": 17,
    "start_time": "2022-10-27T13:06:48.627Z"
   },
   {
    "duration": 13,
    "start_time": "2022-10-27T13:07:01.106Z"
   },
   {
    "duration": 6,
    "start_time": "2022-10-27T13:07:11.547Z"
   },
   {
    "duration": 116,
    "start_time": "2022-10-27T13:07:25.786Z"
   },
   {
    "duration": 105,
    "start_time": "2022-10-27T13:30:33.992Z"
   },
   {
    "duration": 60,
    "start_time": "2022-10-27T13:49:51.669Z"
   },
   {
    "duration": 5,
    "start_time": "2022-10-27T13:53:01.302Z"
   },
   {
    "duration": 4,
    "start_time": "2022-10-27T15:39:46.153Z"
   },
   {
    "duration": 6,
    "start_time": "2022-10-27T15:39:46.160Z"
   },
   {
    "duration": 35,
    "start_time": "2022-10-27T15:39:46.168Z"
   },
   {
    "duration": 11,
    "start_time": "2022-10-27T15:39:46.205Z"
   },
   {
    "duration": 14,
    "start_time": "2022-10-27T15:39:46.218Z"
   },
   {
    "duration": 60,
    "start_time": "2022-10-27T15:39:46.239Z"
   },
   {
    "duration": 14,
    "start_time": "2022-10-27T15:39:46.302Z"
   },
   {
    "duration": 25,
    "start_time": "2022-10-27T15:39:46.318Z"
   },
   {
    "duration": 15,
    "start_time": "2022-10-27T15:39:46.345Z"
   },
   {
    "duration": 15,
    "start_time": "2022-10-27T15:39:46.363Z"
   },
   {
    "duration": 10,
    "start_time": "2022-10-27T15:39:46.379Z"
   },
   {
    "duration": 49,
    "start_time": "2022-10-27T15:39:46.391Z"
   },
   {
    "duration": 12,
    "start_time": "2022-10-27T15:39:46.441Z"
   },
   {
    "duration": 14,
    "start_time": "2022-10-27T15:39:46.455Z"
   },
   {
    "duration": 246,
    "start_time": "2022-10-27T15:39:46.471Z"
   },
   {
    "duration": 223,
    "start_time": "2022-10-27T15:39:46.719Z"
   },
   {
    "duration": 220,
    "start_time": "2022-10-27T15:39:46.943Z"
   },
   {
    "duration": 332,
    "start_time": "2022-10-27T15:39:47.165Z"
   },
   {
    "duration": 204,
    "start_time": "2022-10-27T15:39:47.499Z"
   },
   {
    "duration": 325,
    "start_time": "2022-10-27T15:39:47.704Z"
   },
   {
    "duration": 13,
    "start_time": "2022-10-27T15:39:48.031Z"
   },
   {
    "duration": 8,
    "start_time": "2022-10-27T15:39:48.046Z"
   },
   {
    "duration": 125,
    "start_time": "2022-10-27T15:39:48.056Z"
   },
   {
    "duration": 6,
    "start_time": "2022-10-27T15:39:48.183Z"
   },
   {
    "duration": 9,
    "start_time": "2022-10-27T15:46:02.318Z"
   },
   {
    "duration": 132,
    "start_time": "2022-10-27T15:46:07.565Z"
   },
   {
    "duration": 144,
    "start_time": "2022-10-27T15:46:14.431Z"
   },
   {
    "duration": 122,
    "start_time": "2022-10-27T15:46:20.459Z"
   },
   {
    "duration": 5,
    "start_time": "2022-10-27T15:49:26.535Z"
   },
   {
    "duration": 5,
    "start_time": "2022-10-27T15:50:01.278Z"
   },
   {
    "duration": 4,
    "start_time": "2022-10-27T15:50:20.821Z"
   },
   {
    "duration": 5,
    "start_time": "2022-10-27T15:50:26.464Z"
   },
   {
    "duration": 118,
    "start_time": "2022-10-27T15:51:35.187Z"
   },
   {
    "duration": 115,
    "start_time": "2022-10-27T15:51:43.120Z"
   },
   {
    "duration": 131,
    "start_time": "2022-10-27T15:51:58.162Z"
   },
   {
    "duration": 131,
    "start_time": "2022-10-27T15:52:16.053Z"
   },
   {
    "duration": 338,
    "start_time": "2022-10-27T15:53:45.720Z"
   },
   {
    "duration": 50,
    "start_time": "2022-10-27T15:53:50.725Z"
   },
   {
    "duration": 39,
    "start_time": "2022-10-27T15:54:04.220Z"
   },
   {
    "duration": 467,
    "start_time": "2022-10-27T15:54:06.936Z"
   },
   {
    "duration": 443,
    "start_time": "2022-10-27T15:54:16.496Z"
   },
   {
    "duration": 56,
    "start_time": "2022-10-27T15:54:48.069Z"
   },
   {
    "duration": 469,
    "start_time": "2022-10-27T15:54:52.580Z"
   },
   {
    "duration": 349,
    "start_time": "2022-10-27T15:56:17.054Z"
   },
   {
    "duration": 2,
    "start_time": "2022-10-27T15:56:37.861Z"
   },
   {
    "duration": 343,
    "start_time": "2022-10-27T15:56:39.523Z"
   },
   {
    "duration": 342,
    "start_time": "2022-10-27T15:56:58.521Z"
   },
   {
    "duration": 319,
    "start_time": "2022-10-27T15:57:26.875Z"
   },
   {
    "duration": 10,
    "start_time": "2022-10-27T16:13:16.774Z"
   },
   {
    "duration": 51,
    "start_time": "2022-10-27T16:15:50.554Z"
   },
   {
    "duration": 10,
    "start_time": "2022-10-27T16:15:58.993Z"
   },
   {
    "duration": 7,
    "start_time": "2022-10-27T16:16:05.340Z"
   },
   {
    "duration": 15,
    "start_time": "2022-10-27T16:16:31.090Z"
   },
   {
    "duration": 83,
    "start_time": "2022-10-27T16:16:38.216Z"
   },
   {
    "duration": 81,
    "start_time": "2022-10-27T16:17:03.316Z"
   },
   {
    "duration": 20,
    "start_time": "2022-10-27T16:17:08.757Z"
   },
   {
    "duration": 13,
    "start_time": "2022-10-27T16:17:22.618Z"
   },
   {
    "duration": 70,
    "start_time": "2022-10-27T16:17:26.432Z"
   },
   {
    "duration": 14,
    "start_time": "2022-10-27T16:18:46.795Z"
   },
   {
    "duration": 721,
    "start_time": "2022-10-27T16:23:37.768Z"
   },
   {
    "duration": 13,
    "start_time": "2022-10-27T16:23:49.614Z"
   },
   {
    "duration": 753,
    "start_time": "2022-10-27T16:23:52.364Z"
   },
   {
    "duration": 732,
    "start_time": "2022-10-27T16:24:17.392Z"
   },
   {
    "duration": 734,
    "start_time": "2022-10-27T16:24:29.468Z"
   },
   {
    "duration": 698,
    "start_time": "2022-10-27T16:24:33.679Z"
   },
   {
    "duration": 24,
    "start_time": "2022-10-27T16:24:45.836Z"
   },
   {
    "duration": 11,
    "start_time": "2022-10-27T16:25:10.697Z"
   },
   {
    "duration": 7,
    "start_time": "2022-10-27T16:25:13.537Z"
   },
   {
    "duration": 20,
    "start_time": "2022-10-27T16:26:48.698Z"
   },
   {
    "duration": 5,
    "start_time": "2022-10-27T16:35:40.641Z"
   },
   {
    "duration": 4,
    "start_time": "2022-10-27T16:36:17.091Z"
   },
   {
    "duration": 9,
    "start_time": "2022-10-27T16:36:34.639Z"
   },
   {
    "duration": 4,
    "start_time": "2022-10-27T16:36:43.233Z"
   },
   {
    "duration": 6,
    "start_time": "2022-10-27T16:36:59.954Z"
   },
   {
    "duration": 4,
    "start_time": "2022-10-27T16:37:21.816Z"
   },
   {
    "duration": 4,
    "start_time": "2022-10-27T16:37:25.699Z"
   },
   {
    "duration": 4,
    "start_time": "2022-10-27T16:40:19.001Z"
   },
   {
    "duration": 20,
    "start_time": "2022-10-27T16:42:31.375Z"
   },
   {
    "duration": 83,
    "start_time": "2022-10-27T16:43:04.487Z"
   },
   {
    "duration": 13,
    "start_time": "2022-10-27T16:45:10.330Z"
   },
   {
    "duration": 5,
    "start_time": "2022-10-27T16:45:16.525Z"
   },
   {
    "duration": 5,
    "start_time": "2022-10-27T16:45:28.191Z"
   },
   {
    "duration": 8,
    "start_time": "2022-10-27T16:46:30.819Z"
   },
   {
    "duration": 14,
    "start_time": "2022-10-27T16:46:33.000Z"
   },
   {
    "duration": 4,
    "start_time": "2022-10-27T16:46:34.718Z"
   },
   {
    "duration": 4,
    "start_time": "2022-10-27T16:54:13.591Z"
   },
   {
    "duration": 4,
    "start_time": "2022-10-27T16:54:35.052Z"
   },
   {
    "duration": 4,
    "start_time": "2022-10-27T16:54:40.262Z"
   },
   {
    "duration": 8,
    "start_time": "2022-10-27T16:54:54.930Z"
   },
   {
    "duration": 8,
    "start_time": "2022-10-27T16:55:30.055Z"
   },
   {
    "duration": 7,
    "start_time": "2022-10-27T16:55:48.463Z"
   },
   {
    "duration": 12,
    "start_time": "2022-10-27T16:56:05.246Z"
   },
   {
    "duration": 17,
    "start_time": "2022-10-27T16:56:58.492Z"
   },
   {
    "duration": 10,
    "start_time": "2022-10-27T16:58:12.990Z"
   },
   {
    "duration": 188,
    "start_time": "2022-10-27T16:58:21.444Z"
   },
   {
    "duration": 14,
    "start_time": "2022-10-27T16:58:48.085Z"
   },
   {
    "duration": 18,
    "start_time": "2022-10-27T17:00:16.518Z"
   },
   {
    "duration": 13,
    "start_time": "2022-10-27T17:00:28.370Z"
   },
   {
    "duration": 6,
    "start_time": "2022-10-27T17:00:35.843Z"
   },
   {
    "duration": 14,
    "start_time": "2022-10-27T17:00:46.481Z"
   },
   {
    "duration": 59,
    "start_time": "2022-10-27T17:15:27.362Z"
   },
   {
    "duration": 4,
    "start_time": "2022-10-27T17:15:33.491Z"
   },
   {
    "duration": 14,
    "start_time": "2022-10-27T17:15:37.687Z"
   },
   {
    "duration": 5,
    "start_time": "2022-10-27T17:15:57.544Z"
   },
   {
    "duration": 7,
    "start_time": "2022-10-27T17:17:15.636Z"
   },
   {
    "duration": 17,
    "start_time": "2022-10-27T17:17:20.996Z"
   },
   {
    "duration": 15,
    "start_time": "2022-10-27T17:17:44.070Z"
   },
   {
    "duration": 6,
    "start_time": "2022-10-27T17:21:47.122Z"
   },
   {
    "duration": 4,
    "start_time": "2022-10-27T17:23:02.319Z"
   },
   {
    "duration": 9,
    "start_time": "2022-10-27T17:23:12.729Z"
   },
   {
    "duration": 15,
    "start_time": "2022-10-27T17:23:20.668Z"
   },
   {
    "duration": 12,
    "start_time": "2022-10-27T17:24:37.343Z"
   },
   {
    "duration": 9,
    "start_time": "2022-10-27T17:24:49.585Z"
   },
   {
    "duration": 10,
    "start_time": "2022-10-27T17:27:25.845Z"
   },
   {
    "duration": 9,
    "start_time": "2022-10-27T17:27:46.655Z"
   },
   {
    "duration": 10,
    "start_time": "2022-10-27T17:27:49.187Z"
   },
   {
    "duration": 3,
    "start_time": "2022-10-27T17:27:53.293Z"
   },
   {
    "duration": 6,
    "start_time": "2022-10-27T17:27:53.298Z"
   },
   {
    "duration": 35,
    "start_time": "2022-10-27T17:27:53.306Z"
   },
   {
    "duration": 11,
    "start_time": "2022-10-27T17:27:53.343Z"
   },
   {
    "duration": 11,
    "start_time": "2022-10-27T17:27:53.356Z"
   },
   {
    "duration": 59,
    "start_time": "2022-10-27T17:27:53.369Z"
   },
   {
    "duration": 9,
    "start_time": "2022-10-27T17:27:53.429Z"
   },
   {
    "duration": 10,
    "start_time": "2022-10-27T17:27:53.440Z"
   },
   {
    "duration": 14,
    "start_time": "2022-10-27T17:27:53.452Z"
   },
   {
    "duration": 12,
    "start_time": "2022-10-27T17:27:53.467Z"
   },
   {
    "duration": 9,
    "start_time": "2022-10-27T17:27:53.480Z"
   },
   {
    "duration": 11,
    "start_time": "2022-10-27T17:27:53.491Z"
   },
   {
    "duration": 8,
    "start_time": "2022-10-27T17:27:53.539Z"
   },
   {
    "duration": 9,
    "start_time": "2022-10-27T17:27:53.550Z"
   },
   {
    "duration": 253,
    "start_time": "2022-10-27T17:27:53.561Z"
   },
   {
    "duration": 223,
    "start_time": "2022-10-27T17:27:53.815Z"
   },
   {
    "duration": 202,
    "start_time": "2022-10-27T17:27:54.040Z"
   },
   {
    "duration": 314,
    "start_time": "2022-10-27T17:27:54.244Z"
   },
   {
    "duration": 205,
    "start_time": "2022-10-27T17:27:54.559Z"
   },
   {
    "duration": 286,
    "start_time": "2022-10-27T17:27:54.766Z"
   },
   {
    "duration": 9,
    "start_time": "2022-10-27T17:27:55.054Z"
   },
   {
    "duration": 16,
    "start_time": "2022-10-27T17:27:55.064Z"
   },
   {
    "duration": 126,
    "start_time": "2022-10-27T17:27:55.082Z"
   },
   {
    "duration": 6,
    "start_time": "2022-10-27T17:27:55.210Z"
   },
   {
    "duration": 164,
    "start_time": "2022-10-27T17:27:55.218Z"
   },
   {
    "duration": 5,
    "start_time": "2022-10-27T17:27:55.384Z"
   },
   {
    "duration": 30,
    "start_time": "2022-10-27T17:27:55.390Z"
   },
   {
    "duration": 18,
    "start_time": "2022-10-27T17:27:55.421Z"
   },
   {
    "duration": 20,
    "start_time": "2022-10-27T17:27:55.441Z"
   },
   {
    "duration": 22,
    "start_time": "2022-10-27T17:27:55.463Z"
   },
   {
    "duration": 18,
    "start_time": "2022-10-27T17:27:55.486Z"
   },
   {
    "duration": 20,
    "start_time": "2022-10-27T17:27:55.506Z"
   },
   {
    "duration": 13,
    "start_time": "2022-10-27T17:28:06.957Z"
   },
   {
    "duration": 12,
    "start_time": "2022-10-27T17:28:50.633Z"
   },
   {
    "duration": 4,
    "start_time": "2022-10-27T17:28:57.704Z"
   },
   {
    "duration": 25,
    "start_time": "2022-10-27T17:28:57.710Z"
   },
   {
    "duration": 38,
    "start_time": "2022-10-27T17:28:57.737Z"
   },
   {
    "duration": 13,
    "start_time": "2022-10-27T17:28:57.776Z"
   },
   {
    "duration": 14,
    "start_time": "2022-10-27T17:28:57.791Z"
   },
   {
    "duration": 63,
    "start_time": "2022-10-27T17:28:57.808Z"
   },
   {
    "duration": 14,
    "start_time": "2022-10-27T17:28:57.873Z"
   },
   {
    "duration": 13,
    "start_time": "2022-10-27T17:28:57.890Z"
   },
   {
    "duration": 35,
    "start_time": "2022-10-27T17:28:57.904Z"
   },
   {
    "duration": 10,
    "start_time": "2022-10-27T17:28:57.941Z"
   },
   {
    "duration": 9,
    "start_time": "2022-10-27T17:28:57.952Z"
   },
   {
    "duration": 11,
    "start_time": "2022-10-27T17:28:57.962Z"
   },
   {
    "duration": 8,
    "start_time": "2022-10-27T17:28:57.976Z"
   },
   {
    "duration": 9,
    "start_time": "2022-10-27T17:28:57.986Z"
   },
   {
    "duration": 262,
    "start_time": "2022-10-27T17:28:58.039Z"
   },
   {
    "duration": 239,
    "start_time": "2022-10-27T17:28:58.303Z"
   },
   {
    "duration": 237,
    "start_time": "2022-10-27T17:28:58.544Z"
   },
   {
    "duration": 302,
    "start_time": "2022-10-27T17:28:58.783Z"
   },
   {
    "duration": 214,
    "start_time": "2022-10-27T17:28:59.087Z"
   },
   {
    "duration": 327,
    "start_time": "2022-10-27T17:28:59.304Z"
   },
   {
    "duration": 8,
    "start_time": "2022-10-27T17:28:59.638Z"
   },
   {
    "duration": 8,
    "start_time": "2022-10-27T17:28:59.647Z"
   },
   {
    "duration": 138,
    "start_time": "2022-10-27T17:28:59.657Z"
   },
   {
    "duration": 6,
    "start_time": "2022-10-27T17:28:59.796Z"
   },
   {
    "duration": 147,
    "start_time": "2022-10-27T17:28:59.803Z"
   },
   {
    "duration": 5,
    "start_time": "2022-10-27T17:28:59.951Z"
   },
   {
    "duration": 16,
    "start_time": "2022-10-27T17:28:59.957Z"
   },
   {
    "duration": 4,
    "start_time": "2022-10-27T17:28:59.975Z"
   },
   {
    "duration": 10,
    "start_time": "2022-10-27T17:28:59.980Z"
   },
   {
    "duration": 57,
    "start_time": "2022-10-27T17:28:59.992Z"
   },
   {
    "duration": 12,
    "start_time": "2022-10-27T17:29:00.051Z"
   },
   {
    "duration": 11,
    "start_time": "2022-10-27T17:29:00.064Z"
   },
   {
    "duration": 26,
    "start_time": "2022-10-27T17:29:00.077Z"
   },
   {
    "duration": 10,
    "start_time": "2022-10-27T17:29:32.385Z"
   },
   {
    "duration": 11,
    "start_time": "2022-10-27T17:30:48.215Z"
   },
   {
    "duration": 3,
    "start_time": "2022-10-27T17:30:52.863Z"
   },
   {
    "duration": 21,
    "start_time": "2022-10-27T17:30:52.868Z"
   },
   {
    "duration": 43,
    "start_time": "2022-10-27T17:30:52.891Z"
   },
   {
    "duration": 12,
    "start_time": "2022-10-27T17:30:52.936Z"
   },
   {
    "duration": 13,
    "start_time": "2022-10-27T17:30:52.950Z"
   },
   {
    "duration": 75,
    "start_time": "2022-10-27T17:30:52.965Z"
   },
   {
    "duration": 11,
    "start_time": "2022-10-27T17:30:53.041Z"
   },
   {
    "duration": 23,
    "start_time": "2022-10-27T17:30:53.053Z"
   },
   {
    "duration": 53,
    "start_time": "2022-10-27T17:30:53.078Z"
   },
   {
    "duration": 15,
    "start_time": "2022-10-27T17:30:53.133Z"
   },
   {
    "duration": 23,
    "start_time": "2022-10-27T17:30:53.150Z"
   },
   {
    "duration": 14,
    "start_time": "2022-10-27T17:30:53.175Z"
   },
   {
    "duration": 85,
    "start_time": "2022-10-27T17:30:53.191Z"
   },
   {
    "duration": 10,
    "start_time": "2022-10-27T17:30:53.280Z"
   },
   {
    "duration": 217,
    "start_time": "2022-10-27T17:30:53.292Z"
   },
   {
    "duration": 213,
    "start_time": "2022-10-27T17:30:53.510Z"
   },
   {
    "duration": 226,
    "start_time": "2022-10-27T17:30:53.725Z"
   },
   {
    "duration": 301,
    "start_time": "2022-10-27T17:30:53.953Z"
   },
   {
    "duration": 205,
    "start_time": "2022-10-27T17:30:54.256Z"
   },
   {
    "duration": 308,
    "start_time": "2022-10-27T17:30:54.463Z"
   },
   {
    "duration": 9,
    "start_time": "2022-10-27T17:30:54.772Z"
   },
   {
    "duration": 9,
    "start_time": "2022-10-27T17:30:54.783Z"
   },
   {
    "duration": 138,
    "start_time": "2022-10-27T17:30:54.793Z"
   },
   {
    "duration": 8,
    "start_time": "2022-10-27T17:30:54.933Z"
   },
   {
    "duration": 143,
    "start_time": "2022-10-27T17:30:54.942Z"
   },
   {
    "duration": 5,
    "start_time": "2022-10-27T17:30:55.087Z"
   },
   {
    "duration": 33,
    "start_time": "2022-10-27T17:30:55.094Z"
   },
   {
    "duration": 31,
    "start_time": "2022-10-27T17:30:55.129Z"
   },
   {
    "duration": 20,
    "start_time": "2022-10-27T17:30:55.162Z"
   },
   {
    "duration": 32,
    "start_time": "2022-10-27T17:30:55.184Z"
   },
   {
    "duration": 19,
    "start_time": "2022-10-27T17:30:55.218Z"
   },
   {
    "duration": 30,
    "start_time": "2022-10-27T17:30:55.238Z"
   },
   {
    "duration": 11,
    "start_time": "2022-10-27T17:32:12.383Z"
   },
   {
    "duration": 14,
    "start_time": "2022-10-27T17:32:36.822Z"
   },
   {
    "duration": 3,
    "start_time": "2022-10-27T17:32:38.915Z"
   },
   {
    "duration": 6,
    "start_time": "2022-10-27T17:32:38.920Z"
   },
   {
    "duration": 36,
    "start_time": "2022-10-27T17:32:38.928Z"
   },
   {
    "duration": 11,
    "start_time": "2022-10-27T17:32:38.966Z"
   },
   {
    "duration": 14,
    "start_time": "2022-10-27T17:32:38.979Z"
   },
   {
    "duration": 60,
    "start_time": "2022-10-27T17:32:38.995Z"
   },
   {
    "duration": 12,
    "start_time": "2022-10-27T17:32:39.057Z"
   },
   {
    "duration": 11,
    "start_time": "2022-10-27T17:32:39.071Z"
   },
   {
    "duration": 15,
    "start_time": "2022-10-27T17:32:39.084Z"
   },
   {
    "duration": 13,
    "start_time": "2022-10-27T17:32:39.101Z"
   },
   {
    "duration": 12,
    "start_time": "2022-10-27T17:32:39.140Z"
   },
   {
    "duration": 11,
    "start_time": "2022-10-27T17:32:39.154Z"
   },
   {
    "duration": 11,
    "start_time": "2022-10-27T17:32:39.167Z"
   },
   {
    "duration": 9,
    "start_time": "2022-10-27T17:32:39.181Z"
   },
   {
    "duration": 52,
    "start_time": "2022-10-27T17:32:39.192Z"
   },
   {
    "duration": 12,
    "start_time": "2022-10-27T17:32:39.246Z"
   },
   {
    "duration": 245,
    "start_time": "2022-10-27T17:32:39.260Z"
   },
   {
    "duration": 215,
    "start_time": "2022-10-27T17:32:39.507Z"
   },
   {
    "duration": 242,
    "start_time": "2022-10-27T17:32:39.724Z"
   },
   {
    "duration": 811,
    "start_time": "2022-10-27T17:32:39.967Z"
   },
   {
    "duration": 214,
    "start_time": "2022-10-27T17:32:40.779Z"
   },
   {
    "duration": 284,
    "start_time": "2022-10-27T17:32:40.995Z"
   },
   {
    "duration": 9,
    "start_time": "2022-10-27T17:32:41.281Z"
   },
   {
    "duration": 9,
    "start_time": "2022-10-27T17:32:41.292Z"
   },
   {
    "duration": 170,
    "start_time": "2022-10-27T17:32:41.304Z"
   },
   {
    "duration": 5,
    "start_time": "2022-10-27T17:32:41.476Z"
   },
   {
    "duration": 164,
    "start_time": "2022-10-27T17:32:41.483Z"
   },
   {
    "duration": 5,
    "start_time": "2022-10-27T17:32:41.649Z"
   },
   {
    "duration": 15,
    "start_time": "2022-10-27T17:32:41.656Z"
   },
   {
    "duration": 6,
    "start_time": "2022-10-27T17:32:41.673Z"
   },
   {
    "duration": 12,
    "start_time": "2022-10-27T17:32:41.681Z"
   },
   {
    "duration": 46,
    "start_time": "2022-10-27T17:32:41.695Z"
   },
   {
    "duration": 13,
    "start_time": "2022-10-27T17:32:41.743Z"
   },
   {
    "duration": 16,
    "start_time": "2022-10-27T17:32:58.138Z"
   },
   {
    "duration": 3,
    "start_time": "2022-10-27T17:33:00.880Z"
   },
   {
    "duration": 35,
    "start_time": "2022-10-27T17:33:00.886Z"
   },
   {
    "duration": 48,
    "start_time": "2022-10-27T17:33:00.923Z"
   },
   {
    "duration": 11,
    "start_time": "2022-10-27T17:33:00.972Z"
   },
   {
    "duration": 29,
    "start_time": "2022-10-27T17:33:00.985Z"
   },
   {
    "duration": 82,
    "start_time": "2022-10-27T17:33:01.016Z"
   },
   {
    "duration": 10,
    "start_time": "2022-10-27T17:33:01.100Z"
   },
   {
    "duration": 26,
    "start_time": "2022-10-27T17:33:01.112Z"
   },
   {
    "duration": 23,
    "start_time": "2022-10-27T17:33:01.140Z"
   },
   {
    "duration": 23,
    "start_time": "2022-10-27T17:33:01.165Z"
   },
   {
    "duration": 19,
    "start_time": "2022-10-27T17:33:01.190Z"
   },
   {
    "duration": 28,
    "start_time": "2022-10-27T17:33:01.211Z"
   },
   {
    "duration": 10,
    "start_time": "2022-10-27T17:33:01.241Z"
   },
   {
    "duration": 18,
    "start_time": "2022-10-27T17:33:01.253Z"
   },
   {
    "duration": 34,
    "start_time": "2022-10-27T17:33:01.273Z"
   },
   {
    "duration": 16,
    "start_time": "2022-10-27T17:33:01.309Z"
   },
   {
    "duration": 249,
    "start_time": "2022-10-27T17:33:01.326Z"
   },
   {
    "duration": 217,
    "start_time": "2022-10-27T17:33:01.577Z"
   },
   {
    "duration": 219,
    "start_time": "2022-10-27T17:33:01.796Z"
   },
   {
    "duration": 322,
    "start_time": "2022-10-27T17:33:02.017Z"
   },
   {
    "duration": 216,
    "start_time": "2022-10-27T17:33:02.341Z"
   },
   {
    "duration": 296,
    "start_time": "2022-10-27T17:33:02.559Z"
   },
   {
    "duration": 9,
    "start_time": "2022-10-27T17:33:02.856Z"
   },
   {
    "duration": 10,
    "start_time": "2022-10-27T17:33:02.867Z"
   },
   {
    "duration": 146,
    "start_time": "2022-10-27T17:33:02.879Z"
   },
   {
    "duration": 14,
    "start_time": "2022-10-27T17:33:03.027Z"
   },
   {
    "duration": 131,
    "start_time": "2022-10-27T17:33:03.042Z"
   },
   {
    "duration": 6,
    "start_time": "2022-10-27T17:33:03.175Z"
   },
   {
    "duration": 17,
    "start_time": "2022-10-27T17:33:03.183Z"
   },
   {
    "duration": 36,
    "start_time": "2022-10-27T17:33:03.202Z"
   },
   {
    "duration": 9,
    "start_time": "2022-10-27T17:33:03.240Z"
   },
   {
    "duration": 14,
    "start_time": "2022-10-27T17:33:03.250Z"
   },
   {
    "duration": 15,
    "start_time": "2022-10-27T17:33:03.266Z"
   },
   {
    "duration": 11,
    "start_time": "2022-10-27T17:34:20.094Z"
   },
   {
    "duration": 3,
    "start_time": "2022-10-27T17:34:24.801Z"
   },
   {
    "duration": 14,
    "start_time": "2022-10-27T17:34:24.806Z"
   },
   {
    "duration": 47,
    "start_time": "2022-10-27T17:34:24.821Z"
   },
   {
    "duration": 12,
    "start_time": "2022-10-27T17:34:24.870Z"
   },
   {
    "duration": 30,
    "start_time": "2022-10-27T17:34:24.884Z"
   },
   {
    "duration": 81,
    "start_time": "2022-10-27T17:34:24.916Z"
   },
   {
    "duration": 12,
    "start_time": "2022-10-27T17:34:24.999Z"
   },
   {
    "duration": 23,
    "start_time": "2022-10-27T17:34:25.012Z"
   },
   {
    "duration": 32,
    "start_time": "2022-10-27T17:34:25.037Z"
   },
   {
    "duration": 12,
    "start_time": "2022-10-27T17:34:25.072Z"
   },
   {
    "duration": 15,
    "start_time": "2022-10-27T17:34:25.085Z"
   },
   {
    "duration": 55,
    "start_time": "2022-10-27T17:34:25.102Z"
   },
   {
    "duration": 17,
    "start_time": "2022-10-27T17:34:25.160Z"
   },
   {
    "duration": 21,
    "start_time": "2022-10-27T17:34:25.180Z"
   },
   {
    "duration": 45,
    "start_time": "2022-10-27T17:34:25.203Z"
   },
   {
    "duration": 17,
    "start_time": "2022-10-27T17:34:25.251Z"
   },
   {
    "duration": 281,
    "start_time": "2022-10-27T17:34:25.270Z"
   },
   {
    "duration": 253,
    "start_time": "2022-10-27T17:34:25.554Z"
   },
   {
    "duration": 247,
    "start_time": "2022-10-27T17:34:25.809Z"
   },
   {
    "duration": 337,
    "start_time": "2022-10-27T17:34:26.060Z"
   },
   {
    "duration": 243,
    "start_time": "2022-10-27T17:34:26.399Z"
   },
   {
    "duration": 354,
    "start_time": "2022-10-27T17:34:26.644Z"
   },
   {
    "duration": 9,
    "start_time": "2022-10-27T17:34:27.001Z"
   },
   {
    "duration": 31,
    "start_time": "2022-10-27T17:34:27.011Z"
   },
   {
    "duration": 207,
    "start_time": "2022-10-27T17:34:27.044Z"
   },
   {
    "duration": 8,
    "start_time": "2022-10-27T17:34:27.254Z"
   },
   {
    "duration": 195,
    "start_time": "2022-10-27T17:34:27.264Z"
   },
   {
    "duration": 6,
    "start_time": "2022-10-27T17:34:27.462Z"
   },
   {
    "duration": 33,
    "start_time": "2022-10-27T17:34:27.471Z"
   },
   {
    "duration": 21,
    "start_time": "2022-10-27T17:34:27.507Z"
   },
   {
    "duration": 23,
    "start_time": "2022-10-27T17:34:27.540Z"
   },
   {
    "duration": 24,
    "start_time": "2022-10-27T17:34:27.566Z"
   },
   {
    "duration": 13,
    "start_time": "2022-10-27T17:34:27.592Z"
   },
   {
    "duration": 12,
    "start_time": "2022-10-27T17:34:57.366Z"
   },
   {
    "duration": 9,
    "start_time": "2022-10-27T17:35:12.956Z"
   },
   {
    "duration": 4,
    "start_time": "2022-10-27T17:35:17.181Z"
   },
   {
    "duration": 10,
    "start_time": "2022-10-27T17:35:17.187Z"
   },
   {
    "duration": 36,
    "start_time": "2022-10-27T17:35:17.199Z"
   },
   {
    "duration": 13,
    "start_time": "2022-10-27T17:35:17.238Z"
   },
   {
    "duration": 25,
    "start_time": "2022-10-27T17:35:17.253Z"
   },
   {
    "duration": 67,
    "start_time": "2022-10-27T17:35:17.280Z"
   },
   {
    "duration": 11,
    "start_time": "2022-10-27T17:35:17.349Z"
   },
   {
    "duration": 23,
    "start_time": "2022-10-27T17:35:17.362Z"
   },
   {
    "duration": 19,
    "start_time": "2022-10-27T17:35:17.386Z"
   },
   {
    "duration": 38,
    "start_time": "2022-10-27T17:35:17.408Z"
   },
   {
    "duration": 12,
    "start_time": "2022-10-27T17:35:17.448Z"
   },
   {
    "duration": 18,
    "start_time": "2022-10-27T17:35:17.462Z"
   },
   {
    "duration": 13,
    "start_time": "2022-10-27T17:35:17.482Z"
   },
   {
    "duration": 11,
    "start_time": "2022-10-27T17:35:17.538Z"
   },
   {
    "duration": 9,
    "start_time": "2022-10-27T17:35:17.551Z"
   },
   {
    "duration": 11,
    "start_time": "2022-10-27T17:35:17.561Z"
   },
   {
    "duration": 265,
    "start_time": "2022-10-27T17:35:17.573Z"
   },
   {
    "duration": 205,
    "start_time": "2022-10-27T17:35:17.840Z"
   },
   {
    "duration": 218,
    "start_time": "2022-10-27T17:35:18.047Z"
   },
   {
    "duration": 292,
    "start_time": "2022-10-27T17:35:18.267Z"
   },
   {
    "duration": 199,
    "start_time": "2022-10-27T17:35:18.561Z"
   },
   {
    "duration": 313,
    "start_time": "2022-10-27T17:35:18.762Z"
   },
   {
    "duration": 9,
    "start_time": "2022-10-27T17:35:19.077Z"
   },
   {
    "duration": 12,
    "start_time": "2022-10-27T17:35:19.088Z"
   },
   {
    "duration": 157,
    "start_time": "2022-10-27T17:35:19.101Z"
   },
   {
    "duration": 5,
    "start_time": "2022-10-27T17:35:19.260Z"
   },
   {
    "duration": 146,
    "start_time": "2022-10-27T17:35:19.266Z"
   },
   {
    "duration": 5,
    "start_time": "2022-10-27T17:35:19.413Z"
   },
   {
    "duration": 33,
    "start_time": "2022-10-27T17:35:19.420Z"
   },
   {
    "duration": 4,
    "start_time": "2022-10-27T17:35:19.455Z"
   },
   {
    "duration": 8,
    "start_time": "2022-10-27T17:35:19.460Z"
   },
   {
    "duration": 11,
    "start_time": "2022-10-27T17:35:19.469Z"
   },
   {
    "duration": 14,
    "start_time": "2022-10-27T17:35:19.482Z"
   },
   {
    "duration": 8,
    "start_time": "2022-10-27T17:35:39.233Z"
   },
   {
    "duration": 4,
    "start_time": "2022-10-27T17:35:41.833Z"
   },
   {
    "duration": 6,
    "start_time": "2022-10-27T17:35:41.839Z"
   },
   {
    "duration": 40,
    "start_time": "2022-10-27T17:35:41.847Z"
   },
   {
    "duration": 16,
    "start_time": "2022-10-27T17:35:41.889Z"
   },
   {
    "duration": 41,
    "start_time": "2022-10-27T17:35:41.908Z"
   },
   {
    "duration": 68,
    "start_time": "2022-10-27T17:35:41.951Z"
   },
   {
    "duration": 11,
    "start_time": "2022-10-27T17:35:42.021Z"
   },
   {
    "duration": 14,
    "start_time": "2022-10-27T17:35:42.033Z"
   },
   {
    "duration": 27,
    "start_time": "2022-10-27T17:35:42.050Z"
   },
   {
    "duration": 12,
    "start_time": "2022-10-27T17:35:42.080Z"
   },
   {
    "duration": 8,
    "start_time": "2022-10-27T17:35:42.094Z"
   },
   {
    "duration": 42,
    "start_time": "2022-10-27T17:35:42.104Z"
   },
   {
    "duration": 12,
    "start_time": "2022-10-27T17:35:42.147Z"
   },
   {
    "duration": 15,
    "start_time": "2022-10-27T17:35:42.163Z"
   },
   {
    "duration": 15,
    "start_time": "2022-10-27T17:35:42.180Z"
   },
   {
    "duration": 48,
    "start_time": "2022-10-27T17:35:42.197Z"
   },
   {
    "duration": 261,
    "start_time": "2022-10-27T17:35:42.247Z"
   },
   {
    "duration": 237,
    "start_time": "2022-10-27T17:35:42.510Z"
   },
   {
    "duration": 237,
    "start_time": "2022-10-27T17:35:42.749Z"
   },
   {
    "duration": 282,
    "start_time": "2022-10-27T17:35:42.988Z"
   },
   {
    "duration": 230,
    "start_time": "2022-10-27T17:35:43.272Z"
   },
   {
    "duration": 325,
    "start_time": "2022-10-27T17:35:43.503Z"
   },
   {
    "duration": 14,
    "start_time": "2022-10-27T17:35:43.830Z"
   },
   {
    "duration": 8,
    "start_time": "2022-10-27T17:35:43.845Z"
   },
   {
    "duration": 144,
    "start_time": "2022-10-27T17:35:43.855Z"
   },
   {
    "duration": 5,
    "start_time": "2022-10-27T17:35:44.000Z"
   },
   {
    "duration": 134,
    "start_time": "2022-10-27T17:35:44.006Z"
   },
   {
    "duration": 5,
    "start_time": "2022-10-27T17:35:44.141Z"
   },
   {
    "duration": 15,
    "start_time": "2022-10-27T17:35:44.147Z"
   },
   {
    "duration": 4,
    "start_time": "2022-10-27T17:35:44.164Z"
   },
   {
    "duration": 7,
    "start_time": "2022-10-27T17:35:44.170Z"
   },
   {
    "duration": 11,
    "start_time": "2022-10-27T17:35:44.178Z"
   },
   {
    "duration": 59,
    "start_time": "2022-10-27T17:35:44.190Z"
   },
   {
    "duration": 13,
    "start_time": "2022-10-27T17:36:00.552Z"
   },
   {
    "duration": 4,
    "start_time": "2022-10-27T17:36:06.557Z"
   },
   {
    "duration": 28,
    "start_time": "2022-10-27T17:36:06.564Z"
   },
   {
    "duration": 45,
    "start_time": "2022-10-27T17:36:06.594Z"
   },
   {
    "duration": 12,
    "start_time": "2022-10-27T17:36:06.640Z"
   },
   {
    "duration": 39,
    "start_time": "2022-10-27T17:36:06.654Z"
   },
   {
    "duration": 67,
    "start_time": "2022-10-27T17:36:06.695Z"
   },
   {
    "duration": 11,
    "start_time": "2022-10-27T17:36:06.763Z"
   },
   {
    "duration": 26,
    "start_time": "2022-10-27T17:36:06.776Z"
   },
   {
    "duration": 28,
    "start_time": "2022-10-27T17:36:06.804Z"
   },
   {
    "duration": 28,
    "start_time": "2022-10-27T17:36:06.834Z"
   },
   {
    "duration": 34,
    "start_time": "2022-10-27T17:36:06.863Z"
   },
   {
    "duration": 22,
    "start_time": "2022-10-27T17:36:06.899Z"
   },
   {
    "duration": 31,
    "start_time": "2022-10-27T17:36:06.922Z"
   },
   {
    "duration": 16,
    "start_time": "2022-10-27T17:36:06.958Z"
   },
   {
    "duration": 39,
    "start_time": "2022-10-27T17:36:06.976Z"
   },
   {
    "duration": 28,
    "start_time": "2022-10-27T17:36:07.017Z"
   },
   {
    "duration": 307,
    "start_time": "2022-10-27T17:36:07.047Z"
   },
   {
    "duration": 234,
    "start_time": "2022-10-27T17:36:07.355Z"
   },
   {
    "duration": 214,
    "start_time": "2022-10-27T17:36:07.592Z"
   },
   {
    "duration": 323,
    "start_time": "2022-10-27T17:36:07.807Z"
   },
   {
    "duration": 202,
    "start_time": "2022-10-27T17:36:08.139Z"
   },
   {
    "duration": 307,
    "start_time": "2022-10-27T17:36:08.342Z"
   },
   {
    "duration": 8,
    "start_time": "2022-10-27T17:36:08.651Z"
   },
   {
    "duration": 14,
    "start_time": "2022-10-27T17:36:08.661Z"
   },
   {
    "duration": 162,
    "start_time": "2022-10-27T17:36:08.676Z"
   },
   {
    "duration": 5,
    "start_time": "2022-10-27T17:36:08.840Z"
   },
   {
    "duration": 148,
    "start_time": "2022-10-27T17:36:08.847Z"
   },
   {
    "duration": 7,
    "start_time": "2022-10-27T17:36:08.998Z"
   },
   {
    "duration": 45,
    "start_time": "2022-10-27T17:36:09.007Z"
   },
   {
    "duration": 15,
    "start_time": "2022-10-27T17:36:09.054Z"
   },
   {
    "duration": 21,
    "start_time": "2022-10-27T17:36:09.071Z"
   },
   {
    "duration": 29,
    "start_time": "2022-10-27T17:36:09.095Z"
   },
   {
    "duration": 28,
    "start_time": "2022-10-27T17:36:09.126Z"
   },
   {
    "duration": 5,
    "start_time": "2022-10-27T17:37:38.793Z"
   },
   {
    "duration": 3,
    "start_time": "2022-10-27T17:37:42.308Z"
   },
   {
    "duration": 6,
    "start_time": "2022-10-27T17:37:42.313Z"
   },
   {
    "duration": 34,
    "start_time": "2022-10-27T17:37:42.321Z"
   },
   {
    "duration": 14,
    "start_time": "2022-10-27T17:37:42.358Z"
   },
   {
    "duration": 14,
    "start_time": "2022-10-27T17:37:42.376Z"
   },
   {
    "duration": 67,
    "start_time": "2022-10-27T17:37:42.392Z"
   },
   {
    "duration": 11,
    "start_time": "2022-10-27T17:37:42.461Z"
   },
   {
    "duration": 16,
    "start_time": "2022-10-27T17:37:42.474Z"
   },
   {
    "duration": 14,
    "start_time": "2022-10-27T17:37:42.492Z"
   },
   {
    "duration": 41,
    "start_time": "2022-10-27T17:37:42.509Z"
   },
   {
    "duration": 17,
    "start_time": "2022-10-27T17:37:42.553Z"
   },
   {
    "duration": 3,
    "start_time": "2022-10-27T17:37:42.572Z"
   },
   {
    "duration": 11,
    "start_time": "2022-10-27T17:37:42.577Z"
   },
   {
    "duration": 54,
    "start_time": "2022-10-27T17:37:42.591Z"
   },
   {
    "duration": 9,
    "start_time": "2022-10-27T17:37:42.647Z"
   },
   {
    "duration": 10,
    "start_time": "2022-10-27T17:37:42.658Z"
   },
   {
    "duration": 254,
    "start_time": "2022-10-27T17:37:42.669Z"
   },
   {
    "duration": 212,
    "start_time": "2022-10-27T17:37:42.925Z"
   },
   {
    "duration": 211,
    "start_time": "2022-10-27T17:37:43.138Z"
   },
   {
    "duration": 298,
    "start_time": "2022-10-27T17:37:43.351Z"
   },
   {
    "duration": 199,
    "start_time": "2022-10-27T17:37:43.651Z"
   },
   {
    "duration": 310,
    "start_time": "2022-10-27T17:37:43.852Z"
   },
   {
    "duration": 8,
    "start_time": "2022-10-27T17:37:44.164Z"
   },
   {
    "duration": 11,
    "start_time": "2022-10-27T17:37:44.174Z"
   },
   {
    "duration": 151,
    "start_time": "2022-10-27T17:37:44.187Z"
   },
   {
    "duration": 5,
    "start_time": "2022-10-27T17:37:44.340Z"
   },
   {
    "duration": 133,
    "start_time": "2022-10-27T17:37:44.346Z"
   },
   {
    "duration": 4,
    "start_time": "2022-10-27T17:37:44.481Z"
   },
   {
    "duration": 517,
    "start_time": "2022-10-27T17:37:44.487Z"
   },
   {
    "duration": 19,
    "start_time": "2022-10-27T17:37:45.005Z"
   },
   {
    "duration": 12,
    "start_time": "2022-10-27T17:37:45.026Z"
   },
   {
    "duration": 10,
    "start_time": "2022-10-27T17:37:45.040Z"
   },
   {
    "duration": 14,
    "start_time": "2022-10-27T17:37:45.051Z"
   },
   {
    "duration": 4,
    "start_time": "2022-10-27T17:39:10.581Z"
   },
   {
    "duration": 313,
    "start_time": "2022-10-27T17:47:20.444Z"
   },
   {
    "duration": 27,
    "start_time": "2022-10-27T17:50:40.985Z"
   },
   {
    "duration": 24,
    "start_time": "2022-10-27T17:50:46.755Z"
   },
   {
    "duration": 24,
    "start_time": "2022-10-27T17:51:00.352Z"
   },
   {
    "duration": 24,
    "start_time": "2022-10-27T17:52:20.412Z"
   },
   {
    "duration": 10,
    "start_time": "2022-10-27T18:13:08.483Z"
   },
   {
    "duration": 51,
    "start_time": "2022-10-27T18:40:58.728Z"
   },
   {
    "duration": 46,
    "start_time": "2022-10-27T18:41:16.362Z"
   },
   {
    "duration": 931,
    "start_time": "2022-10-27T18:42:25.444Z"
   },
   {
    "duration": 713,
    "start_time": "2022-10-27T18:42:46.971Z"
   },
   {
    "duration": 10,
    "start_time": "2022-10-27T18:43:05.139Z"
   },
   {
    "duration": 9,
    "start_time": "2022-10-27T18:43:12.011Z"
   },
   {
    "duration": 8,
    "start_time": "2022-10-27T18:43:32.357Z"
   },
   {
    "duration": 8,
    "start_time": "2022-10-27T18:46:32.380Z"
   },
   {
    "duration": 21,
    "start_time": "2022-10-27T18:47:09.630Z"
   },
   {
    "duration": 679,
    "start_time": "2022-10-27T18:51:28.277Z"
   },
   {
    "duration": 18,
    "start_time": "2022-10-27T18:52:27.143Z"
   },
   {
    "duration": 192,
    "start_time": "2022-10-27T19:01:33.866Z"
   },
   {
    "duration": 279,
    "start_time": "2022-10-27T19:06:07.271Z"
   },
   {
    "duration": 187,
    "start_time": "2022-10-27T19:06:09.047Z"
   },
   {
    "duration": 201,
    "start_time": "2022-10-27T19:07:16.468Z"
   },
   {
    "duration": 176,
    "start_time": "2022-10-27T19:08:10.893Z"
   },
   {
    "duration": 3,
    "start_time": "2022-10-28T05:30:44.214Z"
   },
   {
    "duration": 6,
    "start_time": "2022-10-28T05:30:44.219Z"
   },
   {
    "duration": 34,
    "start_time": "2022-10-28T05:30:44.226Z"
   },
   {
    "duration": 12,
    "start_time": "2022-10-28T05:30:44.261Z"
   },
   {
    "duration": 13,
    "start_time": "2022-10-28T05:30:44.275Z"
   },
   {
    "duration": 63,
    "start_time": "2022-10-28T05:30:44.289Z"
   },
   {
    "duration": 9,
    "start_time": "2022-10-28T05:30:44.353Z"
   },
   {
    "duration": 12,
    "start_time": "2022-10-28T05:30:44.364Z"
   },
   {
    "duration": 19,
    "start_time": "2022-10-28T05:30:44.378Z"
   },
   {
    "duration": 18,
    "start_time": "2022-10-28T05:30:44.399Z"
   },
   {
    "duration": 35,
    "start_time": "2022-10-28T05:30:44.420Z"
   },
   {
    "duration": 5,
    "start_time": "2022-10-28T05:30:44.457Z"
   },
   {
    "duration": 15,
    "start_time": "2022-10-28T05:30:44.464Z"
   },
   {
    "duration": 238,
    "start_time": "2022-10-28T05:30:44.481Z"
   },
   {
    "duration": 200,
    "start_time": "2022-10-28T05:30:44.721Z"
   },
   {
    "duration": 217,
    "start_time": "2022-10-28T05:30:44.924Z"
   },
   {
    "duration": 289,
    "start_time": "2022-10-28T05:30:45.143Z"
   },
   {
    "duration": 190,
    "start_time": "2022-10-28T05:30:45.439Z"
   },
   {
    "duration": 285,
    "start_time": "2022-10-28T05:30:45.638Z"
   },
   {
    "duration": 22,
    "start_time": "2022-10-28T05:30:45.924Z"
   },
   {
    "duration": 9,
    "start_time": "2022-10-28T05:30:45.947Z"
   },
   {
    "duration": 141,
    "start_time": "2022-10-28T05:30:45.958Z"
   },
   {
    "duration": 5,
    "start_time": "2022-10-28T05:30:46.101Z"
   },
   {
    "duration": 138,
    "start_time": "2022-10-28T05:30:46.108Z"
   },
   {
    "duration": 6,
    "start_time": "2022-10-28T05:30:46.247Z"
   },
   {
    "duration": 16,
    "start_time": "2022-10-28T05:30:46.254Z"
   },
   {
    "duration": 22,
    "start_time": "2022-10-28T05:30:46.272Z"
   },
   {
    "duration": 44,
    "start_time": "2022-10-28T05:30:46.295Z"
   },
   {
    "duration": 10,
    "start_time": "2022-10-28T05:30:46.342Z"
   },
   {
    "duration": 8,
    "start_time": "2022-10-28T05:30:46.353Z"
   },
   {
    "duration": 25,
    "start_time": "2022-10-28T05:30:46.363Z"
   },
   {
    "duration": 49,
    "start_time": "2022-10-28T05:30:46.390Z"
   },
   {
    "duration": 235,
    "start_time": "2022-10-28T05:30:46.441Z"
   },
   {
    "duration": 202,
    "start_time": "2022-10-28T05:30:46.678Z"
   },
   {
    "duration": 201,
    "start_time": "2022-10-28T05:30:46.882Z"
   },
   {
    "duration": 239,
    "start_time": "2022-10-28T05:30:47.085Z"
   },
   {
    "duration": 4,
    "start_time": "2022-10-28T06:12:39.553Z"
   },
   {
    "duration": 7,
    "start_time": "2022-10-28T06:12:39.559Z"
   },
   {
    "duration": 37,
    "start_time": "2022-10-28T06:12:39.567Z"
   },
   {
    "duration": 10,
    "start_time": "2022-10-28T06:12:39.607Z"
   },
   {
    "duration": 13,
    "start_time": "2022-10-28T06:12:39.619Z"
   },
   {
    "duration": 65,
    "start_time": "2022-10-28T06:12:39.634Z"
   },
   {
    "duration": 10,
    "start_time": "2022-10-28T06:12:39.701Z"
   },
   {
    "duration": 12,
    "start_time": "2022-10-28T06:12:39.713Z"
   },
   {
    "duration": 18,
    "start_time": "2022-10-28T06:12:39.728Z"
   },
   {
    "duration": 10,
    "start_time": "2022-10-28T06:12:39.748Z"
   },
   {
    "duration": 23,
    "start_time": "2022-10-28T06:12:39.760Z"
   },
   {
    "duration": 5,
    "start_time": "2022-10-28T06:12:39.785Z"
   },
   {
    "duration": 48,
    "start_time": "2022-10-28T06:12:39.792Z"
   },
   {
    "duration": 249,
    "start_time": "2022-10-28T06:12:39.842Z"
   },
   {
    "duration": 218,
    "start_time": "2022-10-28T06:12:40.093Z"
   },
   {
    "duration": 230,
    "start_time": "2022-10-28T06:12:40.313Z"
   },
   {
    "duration": 312,
    "start_time": "2022-10-28T06:12:40.545Z"
   },
   {
    "duration": 199,
    "start_time": "2022-10-28T06:12:40.859Z"
   },
   {
    "duration": 314,
    "start_time": "2022-10-28T06:12:41.059Z"
   },
   {
    "duration": 8,
    "start_time": "2022-10-28T06:12:41.375Z"
   },
   {
    "duration": 8,
    "start_time": "2022-10-28T06:12:41.385Z"
   },
   {
    "duration": 172,
    "start_time": "2022-10-28T06:12:41.395Z"
   },
   {
    "duration": 5,
    "start_time": "2022-10-28T06:12:41.569Z"
   },
   {
    "duration": 169,
    "start_time": "2022-10-28T06:12:41.578Z"
   },
   {
    "duration": 5,
    "start_time": "2022-10-28T06:12:41.750Z"
   },
   {
    "duration": 15,
    "start_time": "2022-10-28T06:12:41.758Z"
   },
   {
    "duration": 25,
    "start_time": "2022-10-28T06:12:41.775Z"
   },
   {
    "duration": 45,
    "start_time": "2022-10-28T06:12:41.802Z"
   },
   {
    "duration": 3,
    "start_time": "2022-10-28T06:12:41.848Z"
   },
   {
    "duration": 8,
    "start_time": "2022-10-28T06:12:41.853Z"
   },
   {
    "duration": 12,
    "start_time": "2022-10-28T06:12:41.862Z"
   },
   {
    "duration": 70,
    "start_time": "2022-10-28T06:12:41.876Z"
   },
   {
    "duration": 14,
    "start_time": "2022-10-28T06:12:41.948Z"
   },
   {
    "duration": 240,
    "start_time": "2022-10-28T06:12:41.963Z"
   },
   {
    "duration": 229,
    "start_time": "2022-10-28T06:12:42.205Z"
   },
   {
    "duration": 235,
    "start_time": "2022-10-28T06:12:42.436Z"
   },
   {
    "duration": 214,
    "start_time": "2022-10-28T06:12:42.674Z"
   },
   {
    "duration": 3,
    "start_time": "2022-10-28T06:13:17.416Z"
   },
   {
    "duration": 12,
    "start_time": "2022-10-28T06:13:17.421Z"
   },
   {
    "duration": 35,
    "start_time": "2022-10-28T06:13:17.435Z"
   },
   {
    "duration": 11,
    "start_time": "2022-10-28T06:13:17.472Z"
   },
   {
    "duration": 14,
    "start_time": "2022-10-28T06:13:17.484Z"
   },
   {
    "duration": 66,
    "start_time": "2022-10-28T06:13:17.500Z"
   },
   {
    "duration": 12,
    "start_time": "2022-10-28T06:13:17.568Z"
   },
   {
    "duration": 17,
    "start_time": "2022-10-28T06:13:17.581Z"
   },
   {
    "duration": 21,
    "start_time": "2022-10-28T06:13:17.601Z"
   },
   {
    "duration": 27,
    "start_time": "2022-10-28T06:13:17.624Z"
   },
   {
    "duration": 17,
    "start_time": "2022-10-28T06:13:17.653Z"
   },
   {
    "duration": 8,
    "start_time": "2022-10-28T06:13:17.671Z"
   },
   {
    "duration": 14,
    "start_time": "2022-10-28T06:13:17.680Z"
   },
   {
    "duration": 246,
    "start_time": "2022-10-28T06:13:17.695Z"
   },
   {
    "duration": 231,
    "start_time": "2022-10-28T06:13:17.943Z"
   },
   {
    "duration": 264,
    "start_time": "2022-10-28T06:13:18.177Z"
   },
   {
    "duration": 303,
    "start_time": "2022-10-28T06:13:18.442Z"
   },
   {
    "duration": 204,
    "start_time": "2022-10-28T06:13:18.748Z"
   },
   {
    "duration": 312,
    "start_time": "2022-10-28T06:13:18.954Z"
   },
   {
    "duration": 10,
    "start_time": "2022-10-28T06:13:19.268Z"
   },
   {
    "duration": 9,
    "start_time": "2022-10-28T06:13:19.281Z"
   },
   {
    "duration": 148,
    "start_time": "2022-10-28T06:13:19.292Z"
   },
   {
    "duration": 5,
    "start_time": "2022-10-28T06:13:19.442Z"
   },
   {
    "duration": 142,
    "start_time": "2022-10-28T06:13:19.450Z"
   },
   {
    "duration": 5,
    "start_time": "2022-10-28T06:13:19.594Z"
   },
   {
    "duration": 14,
    "start_time": "2022-10-28T06:13:19.600Z"
   },
   {
    "duration": 39,
    "start_time": "2022-10-28T06:13:19.616Z"
   },
   {
    "duration": 10,
    "start_time": "2022-10-28T06:13:19.657Z"
   },
   {
    "duration": 2,
    "start_time": "2022-10-28T06:13:19.669Z"
   },
   {
    "duration": 7,
    "start_time": "2022-10-28T06:13:19.673Z"
   },
   {
    "duration": 8,
    "start_time": "2022-10-28T06:13:19.682Z"
   },
   {
    "duration": 67,
    "start_time": "2022-10-28T06:13:19.691Z"
   },
   {
    "duration": 14,
    "start_time": "2022-10-28T06:13:19.759Z"
   },
   {
    "duration": 244,
    "start_time": "2022-10-28T06:13:19.775Z"
   },
   {
    "duration": 198,
    "start_time": "2022-10-28T06:13:20.021Z"
   },
   {
    "duration": 213,
    "start_time": "2022-10-28T06:13:20.221Z"
   },
   {
    "duration": 204,
    "start_time": "2022-10-28T06:13:20.439Z"
   },
   {
    "duration": 4,
    "start_time": "2022-10-28T06:15:52.480Z"
   },
   {
    "duration": 5,
    "start_time": "2022-10-28T06:15:52.487Z"
   },
   {
    "duration": 33,
    "start_time": "2022-10-28T06:15:52.494Z"
   },
   {
    "duration": 12,
    "start_time": "2022-10-28T06:15:52.529Z"
   },
   {
    "duration": 14,
    "start_time": "2022-10-28T06:15:52.543Z"
   },
   {
    "duration": 59,
    "start_time": "2022-10-28T06:15:52.558Z"
   },
   {
    "duration": 11,
    "start_time": "2022-10-28T06:15:52.620Z"
   },
   {
    "duration": 12,
    "start_time": "2022-10-28T06:15:52.633Z"
   },
   {
    "duration": 11,
    "start_time": "2022-10-28T06:15:52.649Z"
   },
   {
    "duration": 10,
    "start_time": "2022-10-28T06:15:52.662Z"
   },
   {
    "duration": 16,
    "start_time": "2022-10-28T06:15:52.673Z"
   },
   {
    "duration": 4,
    "start_time": "2022-10-28T06:15:52.691Z"
   },
   {
    "duration": 47,
    "start_time": "2022-10-28T06:15:52.696Z"
   },
   {
    "duration": 241,
    "start_time": "2022-10-28T06:15:52.745Z"
   },
   {
    "duration": 201,
    "start_time": "2022-10-28T06:15:52.988Z"
   },
   {
    "duration": 203,
    "start_time": "2022-10-28T06:15:53.191Z"
   },
   {
    "duration": 273,
    "start_time": "2022-10-28T06:15:53.396Z"
   },
   {
    "duration": 191,
    "start_time": "2022-10-28T06:15:53.671Z"
   },
   {
    "duration": 279,
    "start_time": "2022-10-28T06:15:53.864Z"
   },
   {
    "duration": 8,
    "start_time": "2022-10-28T06:15:54.145Z"
   },
   {
    "duration": 9,
    "start_time": "2022-10-28T06:15:54.155Z"
   },
   {
    "duration": 134,
    "start_time": "2022-10-28T06:15:54.165Z"
   },
   {
    "duration": 5,
    "start_time": "2022-10-28T06:15:54.301Z"
   },
   {
    "duration": 134,
    "start_time": "2022-10-28T06:15:54.309Z"
   },
   {
    "duration": 5,
    "start_time": "2022-10-28T06:15:54.445Z"
   },
   {
    "duration": 14,
    "start_time": "2022-10-28T06:15:54.452Z"
   },
   {
    "duration": 23,
    "start_time": "2022-10-28T06:15:54.467Z"
   },
   {
    "duration": 10,
    "start_time": "2022-10-28T06:15:54.492Z"
   },
   {
    "duration": 65,
    "start_time": "2022-10-28T06:15:54.503Z"
   },
   {
    "duration": 0,
    "start_time": "2022-10-28T06:15:54.569Z"
   },
   {
    "duration": 0,
    "start_time": "2022-10-28T06:15:54.571Z"
   },
   {
    "duration": 0,
    "start_time": "2022-10-28T06:15:54.572Z"
   },
   {
    "duration": 0,
    "start_time": "2022-10-28T06:15:54.573Z"
   },
   {
    "duration": 0,
    "start_time": "2022-10-28T06:15:54.574Z"
   },
   {
    "duration": 0,
    "start_time": "2022-10-28T06:15:54.575Z"
   },
   {
    "duration": 0,
    "start_time": "2022-10-28T06:15:54.576Z"
   },
   {
    "duration": 3,
    "start_time": "2022-10-28T07:21:07.730Z"
   },
   {
    "duration": 6,
    "start_time": "2022-10-28T07:21:07.735Z"
   },
   {
    "duration": 36,
    "start_time": "2022-10-28T07:21:07.743Z"
   },
   {
    "duration": 11,
    "start_time": "2022-10-28T07:21:07.780Z"
   },
   {
    "duration": 11,
    "start_time": "2022-10-28T07:21:07.793Z"
   },
   {
    "duration": 61,
    "start_time": "2022-10-28T07:21:07.806Z"
   },
   {
    "duration": 11,
    "start_time": "2022-10-28T07:21:07.868Z"
   },
   {
    "duration": 16,
    "start_time": "2022-10-28T07:21:07.880Z"
   },
   {
    "duration": 16,
    "start_time": "2022-10-28T07:21:07.898Z"
   },
   {
    "duration": 12,
    "start_time": "2022-10-28T07:21:07.915Z"
   },
   {
    "duration": 18,
    "start_time": "2022-10-28T07:21:07.941Z"
   },
   {
    "duration": 4,
    "start_time": "2022-10-28T07:21:07.960Z"
   },
   {
    "duration": 16,
    "start_time": "2022-10-28T07:21:07.966Z"
   },
   {
    "duration": 241,
    "start_time": "2022-10-28T07:21:07.984Z"
   },
   {
    "duration": 200,
    "start_time": "2022-10-28T07:21:08.227Z"
   },
   {
    "duration": 225,
    "start_time": "2022-10-28T07:21:08.429Z"
   },
   {
    "duration": 303,
    "start_time": "2022-10-28T07:21:08.656Z"
   },
   {
    "duration": 193,
    "start_time": "2022-10-28T07:21:08.960Z"
   },
   {
    "duration": 904,
    "start_time": "2022-10-28T07:21:09.155Z"
   },
   {
    "duration": 9,
    "start_time": "2022-10-28T07:21:10.061Z"
   },
   {
    "duration": 16,
    "start_time": "2022-10-28T07:21:10.071Z"
   },
   {
    "duration": 140,
    "start_time": "2022-10-28T07:21:10.089Z"
   },
   {
    "duration": 4,
    "start_time": "2022-10-28T07:21:10.238Z"
   },
   {
    "duration": 140,
    "start_time": "2022-10-28T07:21:10.244Z"
   },
   {
    "duration": 5,
    "start_time": "2022-10-28T07:21:10.385Z"
   },
   {
    "duration": 14,
    "start_time": "2022-10-28T07:21:10.392Z"
   },
   {
    "duration": 46,
    "start_time": "2022-10-28T07:21:10.408Z"
   },
   {
    "duration": 10,
    "start_time": "2022-10-28T07:21:10.456Z"
   },
   {
    "duration": 58,
    "start_time": "2022-10-28T07:21:10.470Z"
   },
   {
    "duration": 0,
    "start_time": "2022-10-28T07:21:10.529Z"
   },
   {
    "duration": 0,
    "start_time": "2022-10-28T07:21:10.530Z"
   },
   {
    "duration": 0,
    "start_time": "2022-10-28T07:21:10.532Z"
   },
   {
    "duration": 0,
    "start_time": "2022-10-28T07:21:10.533Z"
   },
   {
    "duration": 0,
    "start_time": "2022-10-28T07:21:10.534Z"
   },
   {
    "duration": 0,
    "start_time": "2022-10-28T07:21:10.536Z"
   },
   {
    "duration": 0,
    "start_time": "2022-10-28T07:21:10.537Z"
   },
   {
    "duration": 4,
    "start_time": "2022-10-28T07:21:22.347Z"
   },
   {
    "duration": 14,
    "start_time": "2022-10-28T07:21:22.353Z"
   },
   {
    "duration": 62,
    "start_time": "2022-10-28T07:21:22.368Z"
   },
   {
    "duration": 10,
    "start_time": "2022-10-28T07:21:22.432Z"
   },
   {
    "duration": 26,
    "start_time": "2022-10-28T07:21:22.444Z"
   },
   {
    "duration": 78,
    "start_time": "2022-10-28T07:21:22.471Z"
   },
   {
    "duration": 11,
    "start_time": "2022-10-28T07:21:22.550Z"
   },
   {
    "duration": 27,
    "start_time": "2022-10-28T07:21:22.562Z"
   },
   {
    "duration": 16,
    "start_time": "2022-10-28T07:21:22.592Z"
   },
   {
    "duration": 10,
    "start_time": "2022-10-28T07:21:22.610Z"
   },
   {
    "duration": 28,
    "start_time": "2022-10-28T07:21:22.621Z"
   },
   {
    "duration": 3,
    "start_time": "2022-10-28T07:21:22.651Z"
   },
   {
    "duration": 10,
    "start_time": "2022-10-28T07:21:22.655Z"
   },
   {
    "duration": 250,
    "start_time": "2022-10-28T07:21:22.667Z"
   },
   {
    "duration": 211,
    "start_time": "2022-10-28T07:21:22.919Z"
   },
   {
    "duration": 200,
    "start_time": "2022-10-28T07:21:23.132Z"
   },
   {
    "duration": 305,
    "start_time": "2022-10-28T07:21:23.334Z"
   },
   {
    "duration": 198,
    "start_time": "2022-10-28T07:21:23.641Z"
   },
   {
    "duration": 299,
    "start_time": "2022-10-28T07:21:23.840Z"
   },
   {
    "duration": 9,
    "start_time": "2022-10-28T07:21:24.141Z"
   },
   {
    "duration": 11,
    "start_time": "2022-10-28T07:21:24.153Z"
   },
   {
    "duration": 140,
    "start_time": "2022-10-28T07:21:24.166Z"
   },
   {
    "duration": 4,
    "start_time": "2022-10-28T07:21:24.308Z"
   },
   {
    "duration": 138,
    "start_time": "2022-10-28T07:21:24.315Z"
   },
   {
    "duration": 5,
    "start_time": "2022-10-28T07:21:24.455Z"
   },
   {
    "duration": 16,
    "start_time": "2022-10-28T07:21:24.462Z"
   },
   {
    "duration": 23,
    "start_time": "2022-10-28T07:21:24.480Z"
   },
   {
    "duration": 41,
    "start_time": "2022-10-28T07:21:24.505Z"
   },
   {
    "duration": 10,
    "start_time": "2022-10-28T07:21:24.548Z"
   },
   {
    "duration": 15,
    "start_time": "2022-10-28T07:21:24.560Z"
   },
   {
    "duration": 32,
    "start_time": "2022-10-28T07:21:24.577Z"
   },
   {
    "duration": 31,
    "start_time": "2022-10-28T07:21:24.611Z"
   },
   {
    "duration": 222,
    "start_time": "2022-10-28T07:21:24.644Z"
   },
   {
    "duration": 209,
    "start_time": "2022-10-28T07:21:24.868Z"
   },
   {
    "duration": 209,
    "start_time": "2022-10-28T07:21:25.080Z"
   },
   {
    "duration": 204,
    "start_time": "2022-10-28T07:21:25.291Z"
   },
   {
    "duration": 196,
    "start_time": "2022-10-28T09:45:00.734Z"
   },
   {
    "duration": 208,
    "start_time": "2022-10-28T09:45:35.481Z"
   },
   {
    "duration": 307,
    "start_time": "2022-10-28T09:46:15.640Z"
   },
   {
    "duration": 267,
    "start_time": "2022-10-28T09:46:42.575Z"
   },
   {
    "duration": 266,
    "start_time": "2022-10-28T09:46:54.777Z"
   },
   {
    "duration": 191,
    "start_time": "2022-10-28T09:52:31.833Z"
   },
   {
    "duration": 186,
    "start_time": "2022-10-28T09:52:35.410Z"
   },
   {
    "duration": 274,
    "start_time": "2022-10-28T09:52:54.778Z"
   },
   {
    "duration": 3,
    "start_time": "2022-10-28T10:30:12.159Z"
   },
   {
    "duration": 8,
    "start_time": "2022-10-28T10:30:12.165Z"
   },
   {
    "duration": 34,
    "start_time": "2022-10-28T10:30:12.175Z"
   },
   {
    "duration": 12,
    "start_time": "2022-10-28T10:30:12.211Z"
   },
   {
    "duration": 32,
    "start_time": "2022-10-28T10:30:12.225Z"
   },
   {
    "duration": 61,
    "start_time": "2022-10-28T10:30:12.259Z"
   },
   {
    "duration": 11,
    "start_time": "2022-10-28T10:30:12.322Z"
   },
   {
    "duration": 13,
    "start_time": "2022-10-28T10:30:12.335Z"
   },
   {
    "duration": 15,
    "start_time": "2022-10-28T10:30:12.351Z"
   },
   {
    "duration": 21,
    "start_time": "2022-10-28T10:30:12.368Z"
   },
   {
    "duration": 2,
    "start_time": "2022-10-28T10:30:12.391Z"
   },
   {
    "duration": 5,
    "start_time": "2022-10-28T10:30:12.395Z"
   },
   {
    "duration": 38,
    "start_time": "2022-10-28T10:30:12.402Z"
   },
   {
    "duration": 243,
    "start_time": "2022-10-28T10:30:12.442Z"
   },
   {
    "duration": 222,
    "start_time": "2022-10-28T10:30:12.687Z"
   },
   {
    "duration": 212,
    "start_time": "2022-10-28T10:30:12.911Z"
   },
   {
    "duration": 341,
    "start_time": "2022-10-28T10:30:13.125Z"
   },
   {
    "duration": 210,
    "start_time": "2022-10-28T10:30:13.469Z"
   },
   {
    "duration": 301,
    "start_time": "2022-10-28T10:30:13.681Z"
   },
   {
    "duration": 8,
    "start_time": "2022-10-28T10:30:13.984Z"
   },
   {
    "duration": 18,
    "start_time": "2022-10-28T10:30:13.993Z"
   },
   {
    "duration": 126,
    "start_time": "2022-10-28T10:30:14.013Z"
   },
   {
    "duration": 4,
    "start_time": "2022-10-28T10:30:14.141Z"
   },
   {
    "duration": 140,
    "start_time": "2022-10-28T10:30:14.148Z"
   },
   {
    "duration": 6,
    "start_time": "2022-10-28T10:30:14.289Z"
   },
   {
    "duration": 21,
    "start_time": "2022-10-28T10:30:14.296Z"
   },
   {
    "duration": 41,
    "start_time": "2022-10-28T10:30:14.319Z"
   },
   {
    "duration": 11,
    "start_time": "2022-10-28T10:30:14.362Z"
   },
   {
    "duration": 9,
    "start_time": "2022-10-28T10:30:14.375Z"
   },
   {
    "duration": 9,
    "start_time": "2022-10-28T10:30:14.386Z"
   },
   {
    "duration": 57,
    "start_time": "2022-10-28T10:30:14.396Z"
   },
   {
    "duration": 15,
    "start_time": "2022-10-28T10:30:14.455Z"
   },
   {
    "duration": 238,
    "start_time": "2022-10-28T10:30:14.472Z"
   },
   {
    "duration": 215,
    "start_time": "2022-10-28T10:30:14.712Z"
   },
   {
    "duration": 335,
    "start_time": "2022-10-28T10:30:14.928Z"
   },
   {
    "duration": 210,
    "start_time": "2022-10-28T10:30:15.265Z"
   },
   {
    "duration": 276,
    "start_time": "2022-10-28T10:30:15.477Z"
   },
   {
    "duration": 199,
    "start_time": "2022-10-28T10:30:15.754Z"
   },
   {
    "duration": 294,
    "start_time": "2022-10-28T10:30:15.955Z"
   },
   {
    "duration": 3,
    "start_time": "2022-10-28T10:31:49.167Z"
   },
   {
    "duration": 5,
    "start_time": "2022-10-28T10:31:49.172Z"
   },
   {
    "duration": 40,
    "start_time": "2022-10-28T10:31:49.178Z"
   },
   {
    "duration": 12,
    "start_time": "2022-10-28T10:31:49.220Z"
   },
   {
    "duration": 13,
    "start_time": "2022-10-28T10:31:49.234Z"
   },
   {
    "duration": 61,
    "start_time": "2022-10-28T10:31:49.249Z"
   },
   {
    "duration": 13,
    "start_time": "2022-10-28T10:31:49.312Z"
   },
   {
    "duration": 16,
    "start_time": "2022-10-28T10:31:49.327Z"
   },
   {
    "duration": 19,
    "start_time": "2022-10-28T10:31:49.344Z"
   },
   {
    "duration": 10,
    "start_time": "2022-10-28T10:31:49.365Z"
   },
   {
    "duration": 17,
    "start_time": "2022-10-28T10:31:49.376Z"
   },
   {
    "duration": 4,
    "start_time": "2022-10-28T10:31:49.395Z"
   },
   {
    "duration": 41,
    "start_time": "2022-10-28T10:31:49.402Z"
   },
   {
    "duration": 231,
    "start_time": "2022-10-28T10:31:49.445Z"
   },
   {
    "duration": 206,
    "start_time": "2022-10-28T10:31:49.678Z"
   },
   {
    "duration": 216,
    "start_time": "2022-10-28T10:31:49.886Z"
   },
   {
    "duration": 334,
    "start_time": "2022-10-28T10:31:50.105Z"
   },
   {
    "duration": 228,
    "start_time": "2022-10-28T10:31:50.441Z"
   },
   {
    "duration": 293,
    "start_time": "2022-10-28T10:31:50.672Z"
   },
   {
    "duration": 8,
    "start_time": "2022-10-28T10:31:50.967Z"
   },
   {
    "duration": 9,
    "start_time": "2022-10-28T10:31:50.977Z"
   },
   {
    "duration": 147,
    "start_time": "2022-10-28T10:31:50.988Z"
   },
   {
    "duration": 5,
    "start_time": "2022-10-28T10:31:51.138Z"
   },
   {
    "duration": 138,
    "start_time": "2022-10-28T10:31:51.145Z"
   },
   {
    "duration": 5,
    "start_time": "2022-10-28T10:31:51.285Z"
   },
   {
    "duration": 15,
    "start_time": "2022-10-28T10:31:51.292Z"
   },
   {
    "duration": 47,
    "start_time": "2022-10-28T10:31:51.308Z"
   },
   {
    "duration": 11,
    "start_time": "2022-10-28T10:31:51.357Z"
   },
   {
    "duration": 9,
    "start_time": "2022-10-28T10:31:51.370Z"
   },
   {
    "duration": 9,
    "start_time": "2022-10-28T10:31:51.381Z"
   },
   {
    "duration": 56,
    "start_time": "2022-10-28T10:31:51.392Z"
   },
   {
    "duration": 13,
    "start_time": "2022-10-28T10:31:51.450Z"
   },
   {
    "duration": 238,
    "start_time": "2022-10-28T10:31:51.464Z"
   },
   {
    "duration": 214,
    "start_time": "2022-10-28T10:31:51.704Z"
   },
   {
    "duration": 344,
    "start_time": "2022-10-28T10:31:51.919Z"
   },
   {
    "duration": 203,
    "start_time": "2022-10-28T10:31:52.264Z"
   },
   {
    "duration": 295,
    "start_time": "2022-10-28T10:31:52.470Z"
   },
   {
    "duration": 193,
    "start_time": "2022-10-28T10:31:52.767Z"
   },
   {
    "duration": 280,
    "start_time": "2022-10-28T10:31:52.962Z"
   },
   {
    "duration": 20,
    "start_time": "2022-10-28T11:14:12.770Z"
   },
   {
    "duration": 12,
    "start_time": "2022-10-28T11:15:00.058Z"
   },
   {
    "duration": 22,
    "start_time": "2022-10-28T11:15:10.306Z"
   },
   {
    "duration": 5,
    "start_time": "2022-10-28T11:15:48.868Z"
   },
   {
    "duration": 5,
    "start_time": "2022-10-28T11:15:55.802Z"
   },
   {
    "duration": 18,
    "start_time": "2022-10-28T11:16:00.378Z"
   },
   {
    "duration": 14,
    "start_time": "2022-10-28T11:16:35.916Z"
   },
   {
    "duration": 16,
    "start_time": "2022-10-28T11:17:41.585Z"
   },
   {
    "duration": 13,
    "start_time": "2022-10-28T11:17:52.601Z"
   },
   {
    "duration": 14,
    "start_time": "2022-10-28T11:18:15.170Z"
   },
   {
    "duration": 51,
    "start_time": "2022-10-28T13:48:15.384Z"
   },
   {
    "duration": 1016,
    "start_time": "2022-10-28T13:58:14.762Z"
   },
   {
    "duration": 3,
    "start_time": "2022-10-28T13:58:15.780Z"
   },
   {
    "duration": 100,
    "start_time": "2022-10-28T13:58:15.785Z"
   },
   {
    "duration": 15,
    "start_time": "2022-10-28T13:58:15.888Z"
   },
   {
    "duration": 13,
    "start_time": "2022-10-28T13:58:15.906Z"
   },
   {
    "duration": 81,
    "start_time": "2022-10-28T13:58:15.922Z"
   },
   {
    "duration": 13,
    "start_time": "2022-10-28T13:58:16.006Z"
   },
   {
    "duration": 16,
    "start_time": "2022-10-28T13:58:16.021Z"
   },
   {
    "duration": 17,
    "start_time": "2022-10-28T13:58:16.039Z"
   },
   {
    "duration": 20,
    "start_time": "2022-10-28T13:58:16.058Z"
   },
   {
    "duration": 19,
    "start_time": "2022-10-28T13:58:16.080Z"
   },
   {
    "duration": 5,
    "start_time": "2022-10-28T13:58:16.101Z"
   },
   {
    "duration": 10,
    "start_time": "2022-10-28T13:58:16.139Z"
   },
   {
    "duration": 243,
    "start_time": "2022-10-28T13:58:16.153Z"
   },
   {
    "duration": 304,
    "start_time": "2022-10-28T13:58:16.397Z"
   },
   {
    "duration": 214,
    "start_time": "2022-10-28T13:58:16.702Z"
   },
   {
    "duration": 356,
    "start_time": "2022-10-28T13:58:16.918Z"
   },
   {
    "duration": 249,
    "start_time": "2022-10-28T13:58:17.275Z"
   },
   {
    "duration": 329,
    "start_time": "2022-10-28T13:58:17.526Z"
   },
   {
    "duration": 8,
    "start_time": "2022-10-28T13:58:17.856Z"
   },
   {
    "duration": 159,
    "start_time": "2022-10-28T13:58:17.866Z"
   },
   {
    "duration": 12,
    "start_time": "2022-10-28T13:58:18.027Z"
   },
   {
    "duration": 134,
    "start_time": "2022-10-28T13:58:18.041Z"
   },
   {
    "duration": 7,
    "start_time": "2022-10-28T13:58:18.177Z"
   },
   {
    "duration": 28,
    "start_time": "2022-10-28T13:58:18.186Z"
   },
   {
    "duration": 42,
    "start_time": "2022-10-28T13:58:18.216Z"
   },
   {
    "duration": 12,
    "start_time": "2022-10-28T13:58:18.261Z"
   },
   {
    "duration": 12,
    "start_time": "2022-10-28T13:58:18.275Z"
   },
   {
    "duration": 51,
    "start_time": "2022-10-28T13:58:18.289Z"
   },
   {
    "duration": 35,
    "start_time": "2022-10-28T13:58:18.342Z"
   },
   {
    "duration": 26,
    "start_time": "2022-10-28T13:58:18.379Z"
   },
   {
    "duration": 263,
    "start_time": "2022-10-28T13:58:18.407Z"
   },
   {
    "duration": 208,
    "start_time": "2022-10-28T13:58:18.672Z"
   },
   {
    "duration": 397,
    "start_time": "2022-10-28T13:58:18.882Z"
   },
   {
    "duration": 220,
    "start_time": "2022-10-28T13:58:19.281Z"
   },
   {
    "duration": 343,
    "start_time": "2022-10-28T13:58:19.503Z"
   },
   {
    "duration": 199,
    "start_time": "2022-10-28T13:58:19.847Z"
   },
   {
    "duration": 311,
    "start_time": "2022-10-28T13:58:20.047Z"
   },
   {
    "duration": 1132,
    "start_time": "2022-10-28T16:55:15.918Z"
   },
   {
    "duration": 3,
    "start_time": "2022-10-28T16:55:17.052Z"
   },
   {
    "duration": 114,
    "start_time": "2022-10-28T16:55:17.057Z"
   },
   {
    "duration": 11,
    "start_time": "2022-10-28T16:55:17.173Z"
   },
   {
    "duration": 17,
    "start_time": "2022-10-28T16:55:17.186Z"
   },
   {
    "duration": 145,
    "start_time": "2022-10-28T16:55:17.205Z"
   },
   {
    "duration": 10,
    "start_time": "2022-10-28T16:55:17.352Z"
   },
   {
    "duration": 26,
    "start_time": "2022-10-28T16:55:17.364Z"
   },
   {
    "duration": 20,
    "start_time": "2022-10-28T16:55:17.392Z"
   },
   {
    "duration": 20,
    "start_time": "2022-10-28T16:55:17.414Z"
   },
   {
    "duration": 19,
    "start_time": "2022-10-28T16:55:17.436Z"
   },
   {
    "duration": 10,
    "start_time": "2022-10-28T16:55:17.457Z"
   },
   {
    "duration": 31,
    "start_time": "2022-10-28T16:55:17.468Z"
   },
   {
    "duration": 246,
    "start_time": "2022-10-28T16:55:17.503Z"
   },
   {
    "duration": 279,
    "start_time": "2022-10-28T16:55:17.750Z"
   },
   {
    "duration": 201,
    "start_time": "2022-10-28T16:55:18.031Z"
   },
   {
    "duration": 360,
    "start_time": "2022-10-28T16:55:18.234Z"
   },
   {
    "duration": 193,
    "start_time": "2022-10-28T16:55:18.596Z"
   },
   {
    "duration": 300,
    "start_time": "2022-10-28T16:55:18.790Z"
   },
   {
    "duration": 7,
    "start_time": "2022-10-28T16:55:19.092Z"
   },
   {
    "duration": 134,
    "start_time": "2022-10-28T16:55:19.101Z"
   },
   {
    "duration": 6,
    "start_time": "2022-10-28T16:55:19.237Z"
   },
   {
    "duration": 141,
    "start_time": "2022-10-28T16:55:19.245Z"
   },
   {
    "duration": 6,
    "start_time": "2022-10-28T16:55:19.388Z"
   },
   {
    "duration": 20,
    "start_time": "2022-10-28T16:55:19.396Z"
   },
   {
    "duration": 24,
    "start_time": "2022-10-28T16:55:19.418Z"
   },
   {
    "duration": 9,
    "start_time": "2022-10-28T16:55:19.444Z"
   },
   {
    "duration": 26,
    "start_time": "2022-10-28T16:55:19.455Z"
   },
   {
    "duration": 21,
    "start_time": "2022-10-28T16:55:19.483Z"
   },
   {
    "duration": 40,
    "start_time": "2022-10-28T16:55:19.506Z"
   },
   {
    "duration": 12,
    "start_time": "2022-10-28T16:55:19.547Z"
   },
   {
    "duration": 232,
    "start_time": "2022-10-28T16:55:19.561Z"
   },
   {
    "duration": 203,
    "start_time": "2022-10-28T16:55:19.795Z"
   },
   {
    "duration": 369,
    "start_time": "2022-10-28T16:55:19.999Z"
   },
   {
    "duration": 209,
    "start_time": "2022-10-28T16:55:20.370Z"
   },
   {
    "duration": 313,
    "start_time": "2022-10-28T16:55:20.580Z"
   },
   {
    "duration": 195,
    "start_time": "2022-10-28T16:55:20.895Z"
   },
   {
    "duration": 287,
    "start_time": "2022-10-28T16:55:21.092Z"
   },
   {
    "duration": 12,
    "start_time": "2022-10-28T16:57:40.305Z"
   },
   {
    "duration": 4,
    "start_time": "2022-10-29T15:25:31.891Z"
   },
   {
    "duration": 14,
    "start_time": "2022-10-29T15:25:31.897Z"
   },
   {
    "duration": 43,
    "start_time": "2022-10-29T15:25:31.913Z"
   },
   {
    "duration": 12,
    "start_time": "2022-10-29T15:25:31.958Z"
   },
   {
    "duration": 17,
    "start_time": "2022-10-29T15:25:31.972Z"
   },
   {
    "duration": 61,
    "start_time": "2022-10-29T15:25:31.990Z"
   },
   {
    "duration": 10,
    "start_time": "2022-10-29T15:25:32.053Z"
   },
   {
    "duration": 13,
    "start_time": "2022-10-29T15:25:32.065Z"
   },
   {
    "duration": 16,
    "start_time": "2022-10-29T15:25:32.079Z"
   },
   {
    "duration": 10,
    "start_time": "2022-10-29T15:25:32.098Z"
   },
   {
    "duration": 42,
    "start_time": "2022-10-29T15:25:32.109Z"
   },
   {
    "duration": 6,
    "start_time": "2022-10-29T15:25:32.152Z"
   },
   {
    "duration": 13,
    "start_time": "2022-10-29T15:25:32.159Z"
   },
   {
    "duration": 259,
    "start_time": "2022-10-29T15:25:32.174Z"
   },
   {
    "duration": 223,
    "start_time": "2022-10-29T15:25:32.435Z"
   },
   {
    "duration": 218,
    "start_time": "2022-10-29T15:25:32.659Z"
   },
   {
    "duration": 284,
    "start_time": "2022-10-29T15:25:32.879Z"
   },
   {
    "duration": 200,
    "start_time": "2022-10-29T15:25:33.165Z"
   },
   {
    "duration": 290,
    "start_time": "2022-10-29T15:25:33.367Z"
   },
   {
    "duration": 9,
    "start_time": "2022-10-29T15:25:33.658Z"
   },
   {
    "duration": 143,
    "start_time": "2022-10-29T15:25:33.669Z"
   },
   {
    "duration": 6,
    "start_time": "2022-10-29T15:25:33.814Z"
   },
   {
    "duration": 232,
    "start_time": "2022-10-29T15:25:33.822Z"
   },
   {
    "duration": 5,
    "start_time": "2022-10-29T15:25:34.056Z"
   },
   {
    "duration": 16,
    "start_time": "2022-10-29T15:25:34.062Z"
   },
   {
    "duration": 22,
    "start_time": "2022-10-29T15:25:34.079Z"
   },
   {
    "duration": 38,
    "start_time": "2022-10-29T15:25:34.102Z"
   },
   {
    "duration": 9,
    "start_time": "2022-10-29T15:25:34.143Z"
   },
   {
    "duration": 8,
    "start_time": "2022-10-29T15:25:34.154Z"
   },
   {
    "duration": 21,
    "start_time": "2022-10-29T15:25:34.164Z"
   },
   {
    "duration": 12,
    "start_time": "2022-10-29T15:25:34.187Z"
   },
   {
    "duration": 272,
    "start_time": "2022-10-29T15:25:34.200Z"
   },
   {
    "duration": 215,
    "start_time": "2022-10-29T15:25:34.474Z"
   },
   {
    "duration": 284,
    "start_time": "2022-10-29T15:25:34.691Z"
   },
   {
    "duration": 219,
    "start_time": "2022-10-29T15:25:34.977Z"
   },
   {
    "duration": 279,
    "start_time": "2022-10-29T15:25:35.197Z"
   },
   {
    "duration": 194,
    "start_time": "2022-10-29T15:25:35.477Z"
   },
   {
    "duration": 285,
    "start_time": "2022-10-29T15:25:35.672Z"
   },
   {
    "duration": 238,
    "start_time": "2022-10-29T15:25:47.411Z"
   },
   {
    "duration": 211,
    "start_time": "2022-10-29T15:26:27.761Z"
   },
   {
    "duration": 336,
    "start_time": "2022-10-29T15:27:16.032Z"
   },
   {
    "duration": 236,
    "start_time": "2022-10-29T15:28:10.536Z"
   },
   {
    "duration": 386,
    "start_time": "2022-10-29T15:30:31.373Z"
   },
   {
    "duration": 336,
    "start_time": "2022-10-29T15:30:57.822Z"
   },
   {
    "duration": 137,
    "start_time": "2022-10-29T15:31:54.356Z"
   },
   {
    "duration": 145,
    "start_time": "2022-10-29T15:32:43.004Z"
   },
   {
    "duration": 145,
    "start_time": "2022-10-29T15:33:21.405Z"
   },
   {
    "duration": 193,
    "start_time": "2022-10-29T15:33:27.110Z"
   },
   {
    "duration": 180,
    "start_time": "2022-10-29T15:34:07.054Z"
   },
   {
    "duration": 147,
    "start_time": "2022-10-29T15:36:00.223Z"
   },
   {
    "duration": 143,
    "start_time": "2022-10-29T15:36:28.543Z"
   },
   {
    "duration": 3,
    "start_time": "2022-10-29T15:36:31.348Z"
   },
   {
    "duration": 14,
    "start_time": "2022-10-29T15:36:31.353Z"
   },
   {
    "duration": 34,
    "start_time": "2022-10-29T15:36:31.369Z"
   },
   {
    "duration": 11,
    "start_time": "2022-10-29T15:36:31.405Z"
   },
   {
    "duration": 21,
    "start_time": "2022-10-29T15:36:31.418Z"
   },
   {
    "duration": 60,
    "start_time": "2022-10-29T15:36:31.440Z"
   },
   {
    "duration": 11,
    "start_time": "2022-10-29T15:36:31.501Z"
   },
   {
    "duration": 12,
    "start_time": "2022-10-29T15:36:31.513Z"
   },
   {
    "duration": 16,
    "start_time": "2022-10-29T15:36:31.527Z"
   },
   {
    "duration": 12,
    "start_time": "2022-10-29T15:36:31.544Z"
   },
   {
    "duration": 17,
    "start_time": "2022-10-29T15:36:31.557Z"
   },
   {
    "duration": 4,
    "start_time": "2022-10-29T15:36:31.575Z"
   },
   {
    "duration": 11,
    "start_time": "2022-10-29T15:36:31.581Z"
   },
   {
    "duration": 259,
    "start_time": "2022-10-29T15:36:31.595Z"
   },
   {
    "duration": 230,
    "start_time": "2022-10-29T15:36:31.856Z"
   },
   {
    "duration": 232,
    "start_time": "2022-10-29T15:36:32.087Z"
   },
   {
    "duration": 412,
    "start_time": "2022-10-29T15:36:32.320Z"
   },
   {
    "duration": 211,
    "start_time": "2022-10-29T15:36:32.738Z"
   },
   {
    "duration": 302,
    "start_time": "2022-10-29T15:36:32.951Z"
   },
   {
    "duration": 7,
    "start_time": "2022-10-29T15:36:33.255Z"
   },
   {
    "duration": 165,
    "start_time": "2022-10-29T15:36:33.264Z"
   },
   {
    "duration": 13,
    "start_time": "2022-10-29T15:36:33.430Z"
   },
   {
    "duration": 164,
    "start_time": "2022-10-29T15:36:33.445Z"
   },
   {
    "duration": 144,
    "start_time": "2022-10-29T15:36:33.611Z"
   },
   {
    "duration": 5,
    "start_time": "2022-10-29T15:36:33.756Z"
   },
   {
    "duration": 14,
    "start_time": "2022-10-29T15:36:33.763Z"
   },
   {
    "duration": 23,
    "start_time": "2022-10-29T15:36:33.778Z"
   },
   {
    "duration": 42,
    "start_time": "2022-10-29T15:36:33.804Z"
   },
   {
    "duration": 10,
    "start_time": "2022-10-29T15:36:33.848Z"
   },
   {
    "duration": 8,
    "start_time": "2022-10-29T15:36:33.860Z"
   },
   {
    "duration": 32,
    "start_time": "2022-10-29T15:36:33.869Z"
   },
   {
    "duration": 43,
    "start_time": "2022-10-29T15:36:33.903Z"
   },
   {
    "duration": 241,
    "start_time": "2022-10-29T15:36:33.948Z"
   },
   {
    "duration": 235,
    "start_time": "2022-10-29T15:36:34.191Z"
   },
   {
    "duration": 339,
    "start_time": "2022-10-29T15:36:34.428Z"
   },
   {
    "duration": 211,
    "start_time": "2022-10-29T15:36:34.769Z"
   },
   {
    "duration": 291,
    "start_time": "2022-10-29T15:36:34.982Z"
   },
   {
    "duration": 209,
    "start_time": "2022-10-29T15:36:35.275Z"
   },
   {
    "duration": 386,
    "start_time": "2022-10-29T15:36:35.485Z"
   },
   {
    "duration": 135,
    "start_time": "2022-10-29T15:37:08.465Z"
   },
   {
    "duration": 136,
    "start_time": "2022-10-29T15:37:14.526Z"
   },
   {
    "duration": 122,
    "start_time": "2022-10-29T15:37:18.064Z"
   },
   {
    "duration": 146,
    "start_time": "2022-10-29T15:37:32.198Z"
   },
   {
    "duration": 135,
    "start_time": "2022-10-29T15:38:04.325Z"
   },
   {
    "duration": 142,
    "start_time": "2022-10-29T15:38:20.691Z"
   },
   {
    "duration": 217,
    "start_time": "2022-10-29T15:39:18.677Z"
   },
   {
    "duration": 136,
    "start_time": "2022-10-29T15:39:25.187Z"
   },
   {
    "duration": 141,
    "start_time": "2022-10-29T15:40:20.515Z"
   },
   {
    "duration": 132,
    "start_time": "2022-10-29T15:40:53.494Z"
   },
   {
    "duration": 138,
    "start_time": "2022-10-29T15:41:11.356Z"
   },
   {
    "duration": 152,
    "start_time": "2022-10-29T15:41:28.931Z"
   },
   {
    "duration": 234,
    "start_time": "2022-10-29T15:41:37.488Z"
   },
   {
    "duration": 127,
    "start_time": "2022-10-29T15:41:54.068Z"
   },
   {
    "duration": 139,
    "start_time": "2022-10-29T15:42:04.984Z"
   },
   {
    "duration": 142,
    "start_time": "2022-10-29T15:42:23.633Z"
   },
   {
    "duration": 6,
    "start_time": "2022-10-29T15:44:36.724Z"
   },
   {
    "duration": 5,
    "start_time": "2022-10-29T15:45:24.102Z"
   },
   {
    "duration": 12,
    "start_time": "2022-10-29T15:46:01.398Z"
   },
   {
    "duration": 3,
    "start_time": "2022-10-29T15:50:02.431Z"
   },
   {
    "duration": 30,
    "start_time": "2022-10-29T15:50:02.436Z"
   },
   {
    "duration": 69,
    "start_time": "2022-10-29T15:50:02.468Z"
   },
   {
    "duration": 12,
    "start_time": "2022-10-29T15:50:02.541Z"
   },
   {
    "duration": 40,
    "start_time": "2022-10-29T15:50:02.555Z"
   },
   {
    "duration": 92,
    "start_time": "2022-10-29T15:50:02.597Z"
   },
   {
    "duration": 10,
    "start_time": "2022-10-29T15:50:02.691Z"
   },
   {
    "duration": 42,
    "start_time": "2022-10-29T15:50:02.703Z"
   },
   {
    "duration": 27,
    "start_time": "2022-10-29T15:50:02.747Z"
   },
   {
    "duration": 58,
    "start_time": "2022-10-29T15:50:02.776Z"
   },
   {
    "duration": 25,
    "start_time": "2022-10-29T15:50:02.837Z"
   },
   {
    "duration": 32,
    "start_time": "2022-10-29T15:50:02.864Z"
   },
   {
    "duration": 30,
    "start_time": "2022-10-29T15:50:02.898Z"
   },
   {
    "duration": 235,
    "start_time": "2022-10-29T15:50:02.929Z"
   },
   {
    "duration": 221,
    "start_time": "2022-10-29T15:50:03.166Z"
   },
   {
    "duration": 231,
    "start_time": "2022-10-29T15:50:03.389Z"
   },
   {
    "duration": 328,
    "start_time": "2022-10-29T15:50:03.621Z"
   },
   {
    "duration": 223,
    "start_time": "2022-10-29T15:50:03.951Z"
   },
   {
    "duration": 299,
    "start_time": "2022-10-29T15:50:04.176Z"
   },
   {
    "duration": 8,
    "start_time": "2022-10-29T15:50:04.476Z"
   },
   {
    "duration": 171,
    "start_time": "2022-10-29T15:50:04.486Z"
   },
   {
    "duration": 6,
    "start_time": "2022-10-29T15:50:04.659Z"
   },
   {
    "duration": 163,
    "start_time": "2022-10-29T15:50:04.666Z"
   },
   {
    "duration": 232,
    "start_time": "2022-10-29T15:50:04.838Z"
   },
   {
    "duration": 5,
    "start_time": "2022-10-29T15:50:05.072Z"
   },
   {
    "duration": 35,
    "start_time": "2022-10-29T15:50:05.078Z"
   },
   {
    "duration": 42,
    "start_time": "2022-10-29T15:50:05.115Z"
   },
   {
    "duration": 12,
    "start_time": "2022-10-29T15:50:05.161Z"
   },
   {
    "duration": 16,
    "start_time": "2022-10-29T15:50:05.174Z"
   },
   {
    "duration": 29,
    "start_time": "2022-10-29T15:50:05.192Z"
   },
   {
    "duration": 35,
    "start_time": "2022-10-29T15:50:05.223Z"
   },
   {
    "duration": 13,
    "start_time": "2022-10-29T15:50:05.260Z"
   },
   {
    "duration": 237,
    "start_time": "2022-10-29T15:50:05.274Z"
   },
   {
    "duration": 233,
    "start_time": "2022-10-29T15:50:05.513Z"
   },
   {
    "duration": 330,
    "start_time": "2022-10-29T15:50:05.747Z"
   },
   {
    "duration": 233,
    "start_time": "2022-10-29T15:50:06.079Z"
   },
   {
    "duration": 336,
    "start_time": "2022-10-29T15:50:06.314Z"
   },
   {
    "duration": 224,
    "start_time": "2022-10-29T15:50:06.652Z"
   },
   {
    "duration": 321,
    "start_time": "2022-10-29T15:50:06.878Z"
   },
   {
    "duration": 311,
    "start_time": "2022-10-29T15:51:05.912Z"
   },
   {
    "duration": 343,
    "start_time": "2022-10-29T15:51:27.308Z"
   },
   {
    "duration": 1035,
    "start_time": "2022-10-29T16:11:17.344Z"
   },
   {
    "duration": 3,
    "start_time": "2022-10-29T16:11:18.381Z"
   },
   {
    "duration": 96,
    "start_time": "2022-10-29T16:11:18.385Z"
   },
   {
    "duration": 14,
    "start_time": "2022-10-29T16:11:18.483Z"
   },
   {
    "duration": 16,
    "start_time": "2022-10-29T16:11:18.498Z"
   },
   {
    "duration": 70,
    "start_time": "2022-10-29T16:11:18.516Z"
   },
   {
    "duration": 11,
    "start_time": "2022-10-29T16:11:18.587Z"
   },
   {
    "duration": 29,
    "start_time": "2022-10-29T16:11:18.599Z"
   },
   {
    "duration": 22,
    "start_time": "2022-10-29T16:11:18.630Z"
   },
   {
    "duration": 25,
    "start_time": "2022-10-29T16:11:18.654Z"
   },
   {
    "duration": 19,
    "start_time": "2022-10-29T16:11:18.680Z"
   },
   {
    "duration": 5,
    "start_time": "2022-10-29T16:11:18.701Z"
   },
   {
    "duration": 29,
    "start_time": "2022-10-29T16:11:18.707Z"
   },
   {
    "duration": 234,
    "start_time": "2022-10-29T16:11:18.738Z"
   },
   {
    "duration": 299,
    "start_time": "2022-10-29T16:11:18.973Z"
   },
   {
    "duration": 225,
    "start_time": "2022-10-29T16:11:19.274Z"
   },
   {
    "duration": 329,
    "start_time": "2022-10-29T16:11:19.500Z"
   },
   {
    "duration": 207,
    "start_time": "2022-10-29T16:11:19.838Z"
   },
   {
    "duration": 316,
    "start_time": "2022-10-29T16:11:20.046Z"
   },
   {
    "duration": 7,
    "start_time": "2022-10-29T16:11:20.363Z"
   },
   {
    "duration": 161,
    "start_time": "2022-10-29T16:11:20.372Z"
   },
   {
    "duration": 6,
    "start_time": "2022-10-29T16:11:20.535Z"
   },
   {
    "duration": 163,
    "start_time": "2022-10-29T16:11:20.543Z"
   },
   {
    "duration": 149,
    "start_time": "2022-10-29T16:11:20.708Z"
   },
   {
    "duration": 5,
    "start_time": "2022-10-29T16:11:20.859Z"
   },
   {
    "duration": 27,
    "start_time": "2022-10-29T16:11:20.865Z"
   },
   {
    "duration": 25,
    "start_time": "2022-10-29T16:11:20.894Z"
   },
   {
    "duration": 10,
    "start_time": "2022-10-29T16:11:20.938Z"
   },
   {
    "duration": 10,
    "start_time": "2022-10-29T16:11:20.949Z"
   },
   {
    "duration": 6,
    "start_time": "2022-10-29T16:11:20.961Z"
   },
   {
    "duration": 31,
    "start_time": "2022-10-29T16:11:20.968Z"
   },
   {
    "duration": 53,
    "start_time": "2022-10-29T16:11:21.001Z"
   },
   {
    "duration": 235,
    "start_time": "2022-10-29T16:11:21.056Z"
   },
   {
    "duration": 234,
    "start_time": "2022-10-29T16:11:21.293Z"
   },
   {
    "duration": 429,
    "start_time": "2022-10-29T16:11:21.530Z"
   },
   {
    "duration": 214,
    "start_time": "2022-10-29T16:11:21.961Z"
   },
   {
    "duration": 281,
    "start_time": "2022-10-29T16:11:22.177Z"
   },
   {
    "duration": 206,
    "start_time": "2022-10-29T16:11:22.460Z"
   },
   {
    "duration": 291,
    "start_time": "2022-10-29T16:11:22.668Z"
   },
   {
    "duration": 6,
    "start_time": "2022-10-31T08:52:52.611Z"
   },
   {
    "duration": 13,
    "start_time": "2022-10-31T08:52:59.933Z"
   },
   {
    "duration": 5,
    "start_time": "2022-10-31T08:53:28.895Z"
   }
  ],
  "kernelspec": {
   "display_name": "Python 3 (ipykernel)",
   "language": "python",
   "name": "python3"
  },
  "language_info": {
   "codemirror_mode": {
    "name": "ipython",
    "version": 3
   },
   "file_extension": ".py",
   "mimetype": "text/x-python",
   "name": "python",
   "nbconvert_exporter": "python",
   "pygments_lexer": "ipython3",
   "version": "3.9.13"
  },
  "toc": {
   "base_numbering": 1,
   "nav_menu": {},
   "number_sections": false,
   "sideBar": true,
   "skip_h1_title": false,
   "title_cell": "Table of Contents",
   "title_sidebar": "Contents",
   "toc_cell": false,
   "toc_position": {
    "height": "calc(100% - 180px)",
    "left": "10px",
    "top": "150px",
    "width": "281.344px"
   },
   "toc_section_display": true,
   "toc_window_display": true
  }
 },
 "nbformat": 4,
 "nbformat_minor": 2
}
